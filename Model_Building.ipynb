{
 "cells": [
  {
   "cell_type": "code",
   "execution_count": 100,
   "id": "ee0e3928",
   "metadata": {},
   "outputs": [],
   "source": [
    "import numpy as np\n",
    "import pandas as pd\n",
    "\n",
    "import matplotlib.pyplot as plt\n",
    "import seaborn as sns\n",
    "\n",
    "from sklearn.model_selection import train_test_split\n",
    "from sklearn.linear_model import LogisticRegression\n",
    "\n",
    "from sklearn.metrics import confusion_matrix, plot_confusion_matrix, classification_report\n",
    "from sklearn.metrics import precision_score, recall_score, f1_score, accuracy_score, multilabel_confusion_matrix\n",
    "from sklearn.metrics import roc_auc_score, roc_curve, precision_recall_curve\n",
    "\n",
    "from statsmodels.stats.outliers_influence import variance_inflation_factor\n",
    "from sklearn.model_selection import train_test_split,GridSearchCV,RandomizedSearchCV\n",
    "from sklearn.tree import DecisionTreeClassifier,plot_tree\n",
    "\n",
    "from sklearn.ensemble import RandomForestClassifier\n",
    "from imblearn.over_sampling import SMOTE, RandomOverSampler\n",
    "from imblearn.under_sampling import RandomUnderSampler\n",
    "from imblearn.combine import SMOTEENN\n",
    "\n",
    "from sklearn.metrics import confusion_matrix, plot_confusion_matrix, classification_report, accuracy_score\n",
    "\n",
    "import warnings\n",
    "warnings.filterwarnings('ignore')"
   ]
  },
  {
   "cell_type": "code",
   "execution_count": 3,
   "id": "951ef09a",
   "metadata": {},
   "outputs": [
    {
     "data": {
      "text/html": [
       "<div>\n",
       "<style scoped>\n",
       "    .dataframe tbody tr th:only-of-type {\n",
       "        vertical-align: middle;\n",
       "    }\n",
       "\n",
       "    .dataframe tbody tr th {\n",
       "        vertical-align: top;\n",
       "    }\n",
       "\n",
       "    .dataframe thead th {\n",
       "        text-align: right;\n",
       "    }\n",
       "</style>\n",
       "<table border=\"1\" class=\"dataframe\">\n",
       "  <thead>\n",
       "    <tr style=\"text-align: right;\">\n",
       "      <th></th>\n",
       "      <th>CustomerID</th>\n",
       "      <th>Count</th>\n",
       "      <th>Country</th>\n",
       "      <th>State</th>\n",
       "      <th>City</th>\n",
       "      <th>Zip_Code</th>\n",
       "      <th>Lat_Long</th>\n",
       "      <th>Latitude</th>\n",
       "      <th>Longitude</th>\n",
       "      <th>Gender</th>\n",
       "      <th>...</th>\n",
       "      <th>Contract</th>\n",
       "      <th>Paperless_Billing</th>\n",
       "      <th>Payment_Method</th>\n",
       "      <th>Monthly_Charges</th>\n",
       "      <th>Total_Charges</th>\n",
       "      <th>Churthn_Label</th>\n",
       "      <th>Churn_Value</th>\n",
       "      <th>Churn_Score</th>\n",
       "      <th>CLTV</th>\n",
       "      <th>Churn_Reason</th>\n",
       "    </tr>\n",
       "  </thead>\n",
       "  <tbody>\n",
       "    <tr>\n",
       "      <th>0</th>\n",
       "      <td>3668-QPYBK</td>\n",
       "      <td>1</td>\n",
       "      <td>United States</td>\n",
       "      <td>California</td>\n",
       "      <td>Los Angeles</td>\n",
       "      <td>90003</td>\n",
       "      <td>33.964131, -118.272783</td>\n",
       "      <td>33.964131</td>\n",
       "      <td>-118.272783</td>\n",
       "      <td>Male</td>\n",
       "      <td>...</td>\n",
       "      <td>Month-to-month</td>\n",
       "      <td>Yes</td>\n",
       "      <td>Mailed check</td>\n",
       "      <td>53.85</td>\n",
       "      <td>108.15</td>\n",
       "      <td>Yes</td>\n",
       "      <td>1</td>\n",
       "      <td>86</td>\n",
       "      <td>3239</td>\n",
       "      <td>Competitor made better offer</td>\n",
       "    </tr>\n",
       "    <tr>\n",
       "      <th>1</th>\n",
       "      <td>9237-HQITU</td>\n",
       "      <td>1</td>\n",
       "      <td>United States</td>\n",
       "      <td>California</td>\n",
       "      <td>Los Angeles</td>\n",
       "      <td>90005</td>\n",
       "      <td>34.059281, -118.30742</td>\n",
       "      <td>34.059281</td>\n",
       "      <td>-118.307420</td>\n",
       "      <td>Female</td>\n",
       "      <td>...</td>\n",
       "      <td>Month-to-month</td>\n",
       "      <td>Yes</td>\n",
       "      <td>Electronic check</td>\n",
       "      <td>70.70</td>\n",
       "      <td>151.65</td>\n",
       "      <td>Yes</td>\n",
       "      <td>1</td>\n",
       "      <td>67</td>\n",
       "      <td>2701</td>\n",
       "      <td>Moved</td>\n",
       "    </tr>\n",
       "    <tr>\n",
       "      <th>2</th>\n",
       "      <td>9305-CDSKC</td>\n",
       "      <td>1</td>\n",
       "      <td>United States</td>\n",
       "      <td>California</td>\n",
       "      <td>Los Angeles</td>\n",
       "      <td>90006</td>\n",
       "      <td>34.048013, -118.293953</td>\n",
       "      <td>34.048013</td>\n",
       "      <td>-118.293953</td>\n",
       "      <td>Female</td>\n",
       "      <td>...</td>\n",
       "      <td>Month-to-month</td>\n",
       "      <td>Yes</td>\n",
       "      <td>Electronic check</td>\n",
       "      <td>99.65</td>\n",
       "      <td>820.5</td>\n",
       "      <td>Yes</td>\n",
       "      <td>1</td>\n",
       "      <td>86</td>\n",
       "      <td>5372</td>\n",
       "      <td>Moved</td>\n",
       "    </tr>\n",
       "    <tr>\n",
       "      <th>3</th>\n",
       "      <td>7892-POOKP</td>\n",
       "      <td>1</td>\n",
       "      <td>United States</td>\n",
       "      <td>California</td>\n",
       "      <td>Los Angeles</td>\n",
       "      <td>90010</td>\n",
       "      <td>34.062125, -118.315709</td>\n",
       "      <td>34.062125</td>\n",
       "      <td>-118.315709</td>\n",
       "      <td>Female</td>\n",
       "      <td>...</td>\n",
       "      <td>Month-to-month</td>\n",
       "      <td>Yes</td>\n",
       "      <td>Electronic check</td>\n",
       "      <td>104.80</td>\n",
       "      <td>3046.05</td>\n",
       "      <td>Yes</td>\n",
       "      <td>1</td>\n",
       "      <td>84</td>\n",
       "      <td>5003</td>\n",
       "      <td>Moved</td>\n",
       "    </tr>\n",
       "    <tr>\n",
       "      <th>4</th>\n",
       "      <td>0280-XJGEX</td>\n",
       "      <td>1</td>\n",
       "      <td>United States</td>\n",
       "      <td>California</td>\n",
       "      <td>Los Angeles</td>\n",
       "      <td>90015</td>\n",
       "      <td>34.039224, -118.266293</td>\n",
       "      <td>34.039224</td>\n",
       "      <td>-118.266293</td>\n",
       "      <td>Male</td>\n",
       "      <td>...</td>\n",
       "      <td>Month-to-month</td>\n",
       "      <td>Yes</td>\n",
       "      <td>Bank transfer (automatic)</td>\n",
       "      <td>103.70</td>\n",
       "      <td>5036.3</td>\n",
       "      <td>Yes</td>\n",
       "      <td>1</td>\n",
       "      <td>89</td>\n",
       "      <td>5340</td>\n",
       "      <td>Competitor had better devices</td>\n",
       "    </tr>\n",
       "    <tr>\n",
       "      <th>...</th>\n",
       "      <td>...</td>\n",
       "      <td>...</td>\n",
       "      <td>...</td>\n",
       "      <td>...</td>\n",
       "      <td>...</td>\n",
       "      <td>...</td>\n",
       "      <td>...</td>\n",
       "      <td>...</td>\n",
       "      <td>...</td>\n",
       "      <td>...</td>\n",
       "      <td>...</td>\n",
       "      <td>...</td>\n",
       "      <td>...</td>\n",
       "      <td>...</td>\n",
       "      <td>...</td>\n",
       "      <td>...</td>\n",
       "      <td>...</td>\n",
       "      <td>...</td>\n",
       "      <td>...</td>\n",
       "      <td>...</td>\n",
       "      <td>...</td>\n",
       "    </tr>\n",
       "    <tr>\n",
       "      <th>7038</th>\n",
       "      <td>2569-WGERO</td>\n",
       "      <td>1</td>\n",
       "      <td>United States</td>\n",
       "      <td>California</td>\n",
       "      <td>Landers</td>\n",
       "      <td>92285</td>\n",
       "      <td>34.341737, -116.539416</td>\n",
       "      <td>34.341737</td>\n",
       "      <td>-116.539416</td>\n",
       "      <td>Female</td>\n",
       "      <td>...</td>\n",
       "      <td>Two year</td>\n",
       "      <td>Yes</td>\n",
       "      <td>Bank transfer (automatic)</td>\n",
       "      <td>21.15</td>\n",
       "      <td>1419.4</td>\n",
       "      <td>No</td>\n",
       "      <td>0</td>\n",
       "      <td>45</td>\n",
       "      <td>5306</td>\n",
       "      <td>NaN</td>\n",
       "    </tr>\n",
       "    <tr>\n",
       "      <th>7039</th>\n",
       "      <td>6840-RESVB</td>\n",
       "      <td>1</td>\n",
       "      <td>United States</td>\n",
       "      <td>California</td>\n",
       "      <td>Adelanto</td>\n",
       "      <td>92301</td>\n",
       "      <td>34.667815, -117.536183</td>\n",
       "      <td>34.667815</td>\n",
       "      <td>-117.536183</td>\n",
       "      <td>Male</td>\n",
       "      <td>...</td>\n",
       "      <td>One year</td>\n",
       "      <td>Yes</td>\n",
       "      <td>Mailed check</td>\n",
       "      <td>84.80</td>\n",
       "      <td>1990.5</td>\n",
       "      <td>No</td>\n",
       "      <td>0</td>\n",
       "      <td>59</td>\n",
       "      <td>2140</td>\n",
       "      <td>NaN</td>\n",
       "    </tr>\n",
       "    <tr>\n",
       "      <th>7040</th>\n",
       "      <td>2234-XADUH</td>\n",
       "      <td>1</td>\n",
       "      <td>United States</td>\n",
       "      <td>California</td>\n",
       "      <td>Amboy</td>\n",
       "      <td>92304</td>\n",
       "      <td>34.559882, -115.637164</td>\n",
       "      <td>34.559882</td>\n",
       "      <td>-115.637164</td>\n",
       "      <td>Female</td>\n",
       "      <td>...</td>\n",
       "      <td>One year</td>\n",
       "      <td>Yes</td>\n",
       "      <td>Credit card (automatic)</td>\n",
       "      <td>103.20</td>\n",
       "      <td>7362.9</td>\n",
       "      <td>No</td>\n",
       "      <td>0</td>\n",
       "      <td>71</td>\n",
       "      <td>5560</td>\n",
       "      <td>NaN</td>\n",
       "    </tr>\n",
       "    <tr>\n",
       "      <th>7041</th>\n",
       "      <td>4801-JZAZL</td>\n",
       "      <td>1</td>\n",
       "      <td>United States</td>\n",
       "      <td>California</td>\n",
       "      <td>Angelus Oaks</td>\n",
       "      <td>92305</td>\n",
       "      <td>34.1678, -116.86433</td>\n",
       "      <td>34.167800</td>\n",
       "      <td>-116.864330</td>\n",
       "      <td>Female</td>\n",
       "      <td>...</td>\n",
       "      <td>Month-to-month</td>\n",
       "      <td>Yes</td>\n",
       "      <td>Electronic check</td>\n",
       "      <td>29.60</td>\n",
       "      <td>346.45</td>\n",
       "      <td>No</td>\n",
       "      <td>0</td>\n",
       "      <td>59</td>\n",
       "      <td>2793</td>\n",
       "      <td>NaN</td>\n",
       "    </tr>\n",
       "    <tr>\n",
       "      <th>7042</th>\n",
       "      <td>3186-AJIEK</td>\n",
       "      <td>1</td>\n",
       "      <td>United States</td>\n",
       "      <td>California</td>\n",
       "      <td>Apple Valley</td>\n",
       "      <td>92308</td>\n",
       "      <td>34.424926, -117.184503</td>\n",
       "      <td>34.424926</td>\n",
       "      <td>-117.184503</td>\n",
       "      <td>Male</td>\n",
       "      <td>...</td>\n",
       "      <td>Two year</td>\n",
       "      <td>Yes</td>\n",
       "      <td>Bank transfer (automatic)</td>\n",
       "      <td>105.65</td>\n",
       "      <td>6844.5</td>\n",
       "      <td>No</td>\n",
       "      <td>0</td>\n",
       "      <td>38</td>\n",
       "      <td>5097</td>\n",
       "      <td>NaN</td>\n",
       "    </tr>\n",
       "  </tbody>\n",
       "</table>\n",
       "<p>7043 rows × 33 columns</p>\n",
       "</div>"
      ],
      "text/plain": [
       "      CustomerID  Count        Country       State          City  Zip_Code  \\\n",
       "0     3668-QPYBK      1  United States  California   Los Angeles     90003   \n",
       "1     9237-HQITU      1  United States  California   Los Angeles     90005   \n",
       "2     9305-CDSKC      1  United States  California   Los Angeles     90006   \n",
       "3     7892-POOKP      1  United States  California   Los Angeles     90010   \n",
       "4     0280-XJGEX      1  United States  California   Los Angeles     90015   \n",
       "...          ...    ...            ...         ...           ...       ...   \n",
       "7038  2569-WGERO      1  United States  California       Landers     92285   \n",
       "7039  6840-RESVB      1  United States  California      Adelanto     92301   \n",
       "7040  2234-XADUH      1  United States  California         Amboy     92304   \n",
       "7041  4801-JZAZL      1  United States  California  Angelus Oaks     92305   \n",
       "7042  3186-AJIEK      1  United States  California  Apple Valley     92308   \n",
       "\n",
       "                    Lat_Long   Latitude   Longitude  Gender  ...  \\\n",
       "0     33.964131, -118.272783  33.964131 -118.272783    Male  ...   \n",
       "1      34.059281, -118.30742  34.059281 -118.307420  Female  ...   \n",
       "2     34.048013, -118.293953  34.048013 -118.293953  Female  ...   \n",
       "3     34.062125, -118.315709  34.062125 -118.315709  Female  ...   \n",
       "4     34.039224, -118.266293  34.039224 -118.266293    Male  ...   \n",
       "...                      ...        ...         ...     ...  ...   \n",
       "7038  34.341737, -116.539416  34.341737 -116.539416  Female  ...   \n",
       "7039  34.667815, -117.536183  34.667815 -117.536183    Male  ...   \n",
       "7040  34.559882, -115.637164  34.559882 -115.637164  Female  ...   \n",
       "7041     34.1678, -116.86433  34.167800 -116.864330  Female  ...   \n",
       "7042  34.424926, -117.184503  34.424926 -117.184503    Male  ...   \n",
       "\n",
       "            Contract Paperless_Billing             Payment_Method  \\\n",
       "0     Month-to-month               Yes               Mailed check   \n",
       "1     Month-to-month               Yes           Electronic check   \n",
       "2     Month-to-month               Yes           Electronic check   \n",
       "3     Month-to-month               Yes           Electronic check   \n",
       "4     Month-to-month               Yes  Bank transfer (automatic)   \n",
       "...              ...               ...                        ...   \n",
       "7038        Two year               Yes  Bank transfer (automatic)   \n",
       "7039        One year               Yes               Mailed check   \n",
       "7040        One year               Yes    Credit card (automatic)   \n",
       "7041  Month-to-month               Yes           Electronic check   \n",
       "7042        Two year               Yes  Bank transfer (automatic)   \n",
       "\n",
       "      Monthly_Charges Total_Charges Churthn_Label Churn_Value Churn_Score  \\\n",
       "0               53.85        108.15           Yes           1          86   \n",
       "1               70.70        151.65           Yes           1          67   \n",
       "2               99.65         820.5           Yes           1          86   \n",
       "3              104.80       3046.05           Yes           1          84   \n",
       "4              103.70        5036.3           Yes           1          89   \n",
       "...               ...           ...           ...         ...         ...   \n",
       "7038            21.15        1419.4            No           0          45   \n",
       "7039            84.80        1990.5            No           0          59   \n",
       "7040           103.20        7362.9            No           0          71   \n",
       "7041            29.60        346.45            No           0          59   \n",
       "7042           105.65        6844.5            No           0          38   \n",
       "\n",
       "      CLTV                   Churn_Reason  \n",
       "0     3239   Competitor made better offer  \n",
       "1     2701                          Moved  \n",
       "2     5372                          Moved  \n",
       "3     5003                          Moved  \n",
       "4     5340  Competitor had better devices  \n",
       "...    ...                            ...  \n",
       "7038  5306                            NaN  \n",
       "7039  2140                            NaN  \n",
       "7040  5560                            NaN  \n",
       "7041  2793                            NaN  \n",
       "7042  5097                            NaN  \n",
       "\n",
       "[7043 rows x 33 columns]"
      ]
     },
     "execution_count": 3,
     "metadata": {},
     "output_type": "execute_result"
    }
   ],
   "source": [
    "df = pd.read_csv('Telco_customer_churn.csv')\n",
    "df"
   ]
  },
  {
   "cell_type": "code",
   "execution_count": 4,
   "id": "c3aaead1",
   "metadata": {},
   "outputs": [
    {
     "name": "stdout",
     "output_type": "stream",
     "text": [
      "<class 'pandas.core.frame.DataFrame'>\n",
      "RangeIndex: 7043 entries, 0 to 7042\n",
      "Data columns (total 33 columns):\n",
      " #   Column             Non-Null Count  Dtype  \n",
      "---  ------             --------------  -----  \n",
      " 0   CustomerID         7043 non-null   object \n",
      " 1   Count              7043 non-null   int64  \n",
      " 2   Country            7043 non-null   object \n",
      " 3   State              7043 non-null   object \n",
      " 4   City               7043 non-null   object \n",
      " 5   Zip_Code           7043 non-null   int64  \n",
      " 6   Lat_Long           7043 non-null   object \n",
      " 7   Latitude           7043 non-null   float64\n",
      " 8   Longitude          7043 non-null   float64\n",
      " 9   Gender             7043 non-null   object \n",
      " 10  Senior_Citizen     7043 non-null   object \n",
      " 11  Partner            7043 non-null   object \n",
      " 12  Dependents         7043 non-null   object \n",
      " 13  Tenure_Months      7043 non-null   int64  \n",
      " 14  Phone_Service      7043 non-null   object \n",
      " 15  Multiple_Lines     7043 non-null   object \n",
      " 16  Internet_Service   7043 non-null   object \n",
      " 17  Online_Security    7043 non-null   object \n",
      " 18  Online_Backup      7043 non-null   object \n",
      " 19  Device_Protection  7043 non-null   object \n",
      " 20  Tech_Support       7043 non-null   object \n",
      " 21  Streaming_TV       7043 non-null   object \n",
      " 22  Streaming_Movies   7043 non-null   object \n",
      " 23  Contract           7043 non-null   object \n",
      " 24  Paperless_Billing  7043 non-null   object \n",
      " 25  Payment_Method     7043 non-null   object \n",
      " 26  Monthly_Charges    7043 non-null   float64\n",
      " 27  Total_Charges      7043 non-null   object \n",
      " 28  Churthn_Label      7043 non-null   object \n",
      " 29  Churn_Value        7043 non-null   int64  \n",
      " 30  Churn_Score        7043 non-null   int64  \n",
      " 31  CLTV               7043 non-null   int64  \n",
      " 32  Churn_Reason       1869 non-null   object \n",
      "dtypes: float64(3), int64(6), object(24)\n",
      "memory usage: 1.8+ MB\n"
     ]
    }
   ],
   "source": [
    "df.info()"
   ]
  },
  {
   "cell_type": "code",
   "execution_count": 5,
   "id": "03de8032",
   "metadata": {},
   "outputs": [
    {
     "data": {
      "text/html": [
       "<div>\n",
       "<style scoped>\n",
       "    .dataframe tbody tr th:only-of-type {\n",
       "        vertical-align: middle;\n",
       "    }\n",
       "\n",
       "    .dataframe tbody tr th {\n",
       "        vertical-align: top;\n",
       "    }\n",
       "\n",
       "    .dataframe thead th {\n",
       "        text-align: right;\n",
       "    }\n",
       "</style>\n",
       "<table border=\"1\" class=\"dataframe\">\n",
       "  <thead>\n",
       "    <tr style=\"text-align: right;\">\n",
       "      <th></th>\n",
       "      <th>Count</th>\n",
       "      <th>Zip_Code</th>\n",
       "      <th>Latitude</th>\n",
       "      <th>Longitude</th>\n",
       "      <th>Tenure_Months</th>\n",
       "      <th>Monthly_Charges</th>\n",
       "      <th>Churn_Value</th>\n",
       "      <th>Churn_Score</th>\n",
       "      <th>CLTV</th>\n",
       "    </tr>\n",
       "  </thead>\n",
       "  <tbody>\n",
       "    <tr>\n",
       "      <th>count</th>\n",
       "      <td>7043.0</td>\n",
       "      <td>7043.000000</td>\n",
       "      <td>7043.000000</td>\n",
       "      <td>7043.000000</td>\n",
       "      <td>7043.000000</td>\n",
       "      <td>7043.000000</td>\n",
       "      <td>7043.000000</td>\n",
       "      <td>7043.000000</td>\n",
       "      <td>7043.000000</td>\n",
       "    </tr>\n",
       "    <tr>\n",
       "      <th>mean</th>\n",
       "      <td>1.0</td>\n",
       "      <td>93521.964646</td>\n",
       "      <td>36.282441</td>\n",
       "      <td>-119.798880</td>\n",
       "      <td>32.371149</td>\n",
       "      <td>64.761692</td>\n",
       "      <td>0.265370</td>\n",
       "      <td>58.699418</td>\n",
       "      <td>4400.295755</td>\n",
       "    </tr>\n",
       "    <tr>\n",
       "      <th>std</th>\n",
       "      <td>0.0</td>\n",
       "      <td>1865.794555</td>\n",
       "      <td>2.455723</td>\n",
       "      <td>2.157889</td>\n",
       "      <td>24.559481</td>\n",
       "      <td>30.090047</td>\n",
       "      <td>0.441561</td>\n",
       "      <td>21.525131</td>\n",
       "      <td>1183.057152</td>\n",
       "    </tr>\n",
       "    <tr>\n",
       "      <th>min</th>\n",
       "      <td>1.0</td>\n",
       "      <td>90001.000000</td>\n",
       "      <td>32.555828</td>\n",
       "      <td>-124.301372</td>\n",
       "      <td>0.000000</td>\n",
       "      <td>18.250000</td>\n",
       "      <td>0.000000</td>\n",
       "      <td>5.000000</td>\n",
       "      <td>2003.000000</td>\n",
       "    </tr>\n",
       "    <tr>\n",
       "      <th>25%</th>\n",
       "      <td>1.0</td>\n",
       "      <td>92102.000000</td>\n",
       "      <td>34.030915</td>\n",
       "      <td>-121.815412</td>\n",
       "      <td>9.000000</td>\n",
       "      <td>35.500000</td>\n",
       "      <td>0.000000</td>\n",
       "      <td>40.000000</td>\n",
       "      <td>3469.000000</td>\n",
       "    </tr>\n",
       "    <tr>\n",
       "      <th>50%</th>\n",
       "      <td>1.0</td>\n",
       "      <td>93552.000000</td>\n",
       "      <td>36.391777</td>\n",
       "      <td>-119.730885</td>\n",
       "      <td>29.000000</td>\n",
       "      <td>70.350000</td>\n",
       "      <td>0.000000</td>\n",
       "      <td>61.000000</td>\n",
       "      <td>4527.000000</td>\n",
       "    </tr>\n",
       "    <tr>\n",
       "      <th>75%</th>\n",
       "      <td>1.0</td>\n",
       "      <td>95351.000000</td>\n",
       "      <td>38.224869</td>\n",
       "      <td>-118.043237</td>\n",
       "      <td>55.000000</td>\n",
       "      <td>89.850000</td>\n",
       "      <td>1.000000</td>\n",
       "      <td>75.000000</td>\n",
       "      <td>5380.500000</td>\n",
       "    </tr>\n",
       "    <tr>\n",
       "      <th>max</th>\n",
       "      <td>1.0</td>\n",
       "      <td>96161.000000</td>\n",
       "      <td>41.962127</td>\n",
       "      <td>-114.192901</td>\n",
       "      <td>72.000000</td>\n",
       "      <td>118.750000</td>\n",
       "      <td>1.000000</td>\n",
       "      <td>100.000000</td>\n",
       "      <td>6500.000000</td>\n",
       "    </tr>\n",
       "  </tbody>\n",
       "</table>\n",
       "</div>"
      ],
      "text/plain": [
       "        Count      Zip_Code     Latitude    Longitude  Tenure_Months  \\\n",
       "count  7043.0   7043.000000  7043.000000  7043.000000    7043.000000   \n",
       "mean      1.0  93521.964646    36.282441  -119.798880      32.371149   \n",
       "std       0.0   1865.794555     2.455723     2.157889      24.559481   \n",
       "min       1.0  90001.000000    32.555828  -124.301372       0.000000   \n",
       "25%       1.0  92102.000000    34.030915  -121.815412       9.000000   \n",
       "50%       1.0  93552.000000    36.391777  -119.730885      29.000000   \n",
       "75%       1.0  95351.000000    38.224869  -118.043237      55.000000   \n",
       "max       1.0  96161.000000    41.962127  -114.192901      72.000000   \n",
       "\n",
       "       Monthly_Charges  Churn_Value  Churn_Score         CLTV  \n",
       "count      7043.000000  7043.000000  7043.000000  7043.000000  \n",
       "mean         64.761692     0.265370    58.699418  4400.295755  \n",
       "std          30.090047     0.441561    21.525131  1183.057152  \n",
       "min          18.250000     0.000000     5.000000  2003.000000  \n",
       "25%          35.500000     0.000000    40.000000  3469.000000  \n",
       "50%          70.350000     0.000000    61.000000  4527.000000  \n",
       "75%          89.850000     1.000000    75.000000  5380.500000  \n",
       "max         118.750000     1.000000   100.000000  6500.000000  "
      ]
     },
     "execution_count": 5,
     "metadata": {},
     "output_type": "execute_result"
    }
   ],
   "source": [
    "df.describe()"
   ]
  },
  {
   "cell_type": "code",
   "execution_count": 6,
   "id": "be4e57e3",
   "metadata": {},
   "outputs": [
    {
     "data": {
      "text/plain": [
       "CustomerID              0\n",
       "Count                   0\n",
       "Country                 0\n",
       "State                   0\n",
       "City                    0\n",
       "Zip_Code                0\n",
       "Lat_Long                0\n",
       "Latitude                0\n",
       "Longitude               0\n",
       "Gender                  0\n",
       "Senior_Citizen          0\n",
       "Partner                 0\n",
       "Dependents              0\n",
       "Tenure_Months           0\n",
       "Phone_Service           0\n",
       "Multiple_Lines          0\n",
       "Internet_Service        0\n",
       "Online_Security         0\n",
       "Online_Backup           0\n",
       "Device_Protection       0\n",
       "Tech_Support            0\n",
       "Streaming_TV            0\n",
       "Streaming_Movies        0\n",
       "Contract                0\n",
       "Paperless_Billing       0\n",
       "Payment_Method          0\n",
       "Monthly_Charges         0\n",
       "Total_Charges           0\n",
       "Churthn_Label           0\n",
       "Churn_Value             0\n",
       "Churn_Score             0\n",
       "CLTV                    0\n",
       "Churn_Reason         5174\n",
       "dtype: int64"
      ]
     },
     "execution_count": 6,
     "metadata": {},
     "output_type": "execute_result"
    }
   ],
   "source": [
    "df.isna().sum()"
   ]
  },
  {
   "cell_type": "code",
   "execution_count": 7,
   "id": "8d5a911b",
   "metadata": {},
   "outputs": [
    {
     "data": {
      "text/html": [
       "<div>\n",
       "<style scoped>\n",
       "    .dataframe tbody tr th:only-of-type {\n",
       "        vertical-align: middle;\n",
       "    }\n",
       "\n",
       "    .dataframe tbody tr th {\n",
       "        vertical-align: top;\n",
       "    }\n",
       "\n",
       "    .dataframe thead th {\n",
       "        text-align: right;\n",
       "    }\n",
       "</style>\n",
       "<table border=\"1\" class=\"dataframe\">\n",
       "  <thead>\n",
       "    <tr style=\"text-align: right;\">\n",
       "      <th></th>\n",
       "      <th>7038</th>\n",
       "      <th>7039</th>\n",
       "      <th>7040</th>\n",
       "      <th>7041</th>\n",
       "      <th>7042</th>\n",
       "    </tr>\n",
       "  </thead>\n",
       "  <tbody>\n",
       "    <tr>\n",
       "      <th>customerID</th>\n",
       "      <td>2569-WGERO</td>\n",
       "      <td>6840-RESVB</td>\n",
       "      <td>2234-XADUH</td>\n",
       "      <td>4801-JZAZL</td>\n",
       "      <td>3186-AJIEK</td>\n",
       "    </tr>\n",
       "    <tr>\n",
       "      <th>count</th>\n",
       "      <td>1</td>\n",
       "      <td>1</td>\n",
       "      <td>1</td>\n",
       "      <td>1</td>\n",
       "      <td>1</td>\n",
       "    </tr>\n",
       "    <tr>\n",
       "      <th>country</th>\n",
       "      <td>United States</td>\n",
       "      <td>United States</td>\n",
       "      <td>United States</td>\n",
       "      <td>United States</td>\n",
       "      <td>United States</td>\n",
       "    </tr>\n",
       "    <tr>\n",
       "      <th>state</th>\n",
       "      <td>California</td>\n",
       "      <td>California</td>\n",
       "      <td>California</td>\n",
       "      <td>California</td>\n",
       "      <td>California</td>\n",
       "    </tr>\n",
       "    <tr>\n",
       "      <th>city</th>\n",
       "      <td>Landers</td>\n",
       "      <td>Adelanto</td>\n",
       "      <td>Amboy</td>\n",
       "      <td>Angelus Oaks</td>\n",
       "      <td>Apple Valley</td>\n",
       "    </tr>\n",
       "    <tr>\n",
       "      <th>zip_code</th>\n",
       "      <td>92285</td>\n",
       "      <td>92301</td>\n",
       "      <td>92304</td>\n",
       "      <td>92305</td>\n",
       "      <td>92308</td>\n",
       "    </tr>\n",
       "    <tr>\n",
       "      <th>lat_long</th>\n",
       "      <td>34.341737, -116.539416</td>\n",
       "      <td>34.667815, -117.536183</td>\n",
       "      <td>34.559882, -115.637164</td>\n",
       "      <td>34.1678, -116.86433</td>\n",
       "      <td>34.424926, -117.184503</td>\n",
       "    </tr>\n",
       "    <tr>\n",
       "      <th>latitude</th>\n",
       "      <td>34.341737</td>\n",
       "      <td>34.667815</td>\n",
       "      <td>34.559882</td>\n",
       "      <td>34.1678</td>\n",
       "      <td>34.424926</td>\n",
       "    </tr>\n",
       "    <tr>\n",
       "      <th>longitude</th>\n",
       "      <td>-116.539416</td>\n",
       "      <td>-117.536183</td>\n",
       "      <td>-115.637164</td>\n",
       "      <td>-116.86433</td>\n",
       "      <td>-117.184503</td>\n",
       "    </tr>\n",
       "    <tr>\n",
       "      <th>gender</th>\n",
       "      <td>Female</td>\n",
       "      <td>Male</td>\n",
       "      <td>Female</td>\n",
       "      <td>Female</td>\n",
       "      <td>Male</td>\n",
       "    </tr>\n",
       "    <tr>\n",
       "      <th>senior_citizen</th>\n",
       "      <td>No</td>\n",
       "      <td>No</td>\n",
       "      <td>No</td>\n",
       "      <td>No</td>\n",
       "      <td>No</td>\n",
       "    </tr>\n",
       "    <tr>\n",
       "      <th>partner</th>\n",
       "      <td>No</td>\n",
       "      <td>Yes</td>\n",
       "      <td>Yes</td>\n",
       "      <td>Yes</td>\n",
       "      <td>No</td>\n",
       "    </tr>\n",
       "    <tr>\n",
       "      <th>dependents</th>\n",
       "      <td>No</td>\n",
       "      <td>Yes</td>\n",
       "      <td>Yes</td>\n",
       "      <td>Yes</td>\n",
       "      <td>No</td>\n",
       "    </tr>\n",
       "    <tr>\n",
       "      <th>tenure_months</th>\n",
       "      <td>72</td>\n",
       "      <td>24</td>\n",
       "      <td>72</td>\n",
       "      <td>11</td>\n",
       "      <td>66</td>\n",
       "    </tr>\n",
       "    <tr>\n",
       "      <th>phone_service</th>\n",
       "      <td>Yes</td>\n",
       "      <td>Yes</td>\n",
       "      <td>Yes</td>\n",
       "      <td>No</td>\n",
       "      <td>Yes</td>\n",
       "    </tr>\n",
       "    <tr>\n",
       "      <th>multiple_lines</th>\n",
       "      <td>No</td>\n",
       "      <td>Yes</td>\n",
       "      <td>Yes</td>\n",
       "      <td>No phone service</td>\n",
       "      <td>No</td>\n",
       "    </tr>\n",
       "    <tr>\n",
       "      <th>internet_service</th>\n",
       "      <td>No</td>\n",
       "      <td>DSL</td>\n",
       "      <td>Fiber optic</td>\n",
       "      <td>DSL</td>\n",
       "      <td>Fiber optic</td>\n",
       "    </tr>\n",
       "    <tr>\n",
       "      <th>online_security</th>\n",
       "      <td>No internet service</td>\n",
       "      <td>Yes</td>\n",
       "      <td>No</td>\n",
       "      <td>Yes</td>\n",
       "      <td>Yes</td>\n",
       "    </tr>\n",
       "    <tr>\n",
       "      <th>online_backup</th>\n",
       "      <td>No internet service</td>\n",
       "      <td>No</td>\n",
       "      <td>Yes</td>\n",
       "      <td>No</td>\n",
       "      <td>No</td>\n",
       "    </tr>\n",
       "    <tr>\n",
       "      <th>device_protection</th>\n",
       "      <td>No internet service</td>\n",
       "      <td>Yes</td>\n",
       "      <td>Yes</td>\n",
       "      <td>No</td>\n",
       "      <td>Yes</td>\n",
       "    </tr>\n",
       "    <tr>\n",
       "      <th>tech_support</th>\n",
       "      <td>No internet service</td>\n",
       "      <td>Yes</td>\n",
       "      <td>No</td>\n",
       "      <td>No</td>\n",
       "      <td>Yes</td>\n",
       "    </tr>\n",
       "    <tr>\n",
       "      <th>streaming_tv</th>\n",
       "      <td>No internet service</td>\n",
       "      <td>Yes</td>\n",
       "      <td>Yes</td>\n",
       "      <td>No</td>\n",
       "      <td>Yes</td>\n",
       "    </tr>\n",
       "    <tr>\n",
       "      <th>streaming_movies</th>\n",
       "      <td>No internet service</td>\n",
       "      <td>Yes</td>\n",
       "      <td>Yes</td>\n",
       "      <td>No</td>\n",
       "      <td>Yes</td>\n",
       "    </tr>\n",
       "    <tr>\n",
       "      <th>contract</th>\n",
       "      <td>Two year</td>\n",
       "      <td>One year</td>\n",
       "      <td>One year</td>\n",
       "      <td>Month-to-month</td>\n",
       "      <td>Two year</td>\n",
       "    </tr>\n",
       "    <tr>\n",
       "      <th>paperless_billing</th>\n",
       "      <td>Yes</td>\n",
       "      <td>Yes</td>\n",
       "      <td>Yes</td>\n",
       "      <td>Yes</td>\n",
       "      <td>Yes</td>\n",
       "    </tr>\n",
       "    <tr>\n",
       "      <th>payment_method</th>\n",
       "      <td>Bank transfer (automatic)</td>\n",
       "      <td>Mailed check</td>\n",
       "      <td>Credit card (automatic)</td>\n",
       "      <td>Electronic check</td>\n",
       "      <td>Bank transfer (automatic)</td>\n",
       "    </tr>\n",
       "    <tr>\n",
       "      <th>monthly_charges</th>\n",
       "      <td>21.15</td>\n",
       "      <td>84.8</td>\n",
       "      <td>103.2</td>\n",
       "      <td>29.6</td>\n",
       "      <td>105.65</td>\n",
       "    </tr>\n",
       "    <tr>\n",
       "      <th>total_charges</th>\n",
       "      <td>1419.4</td>\n",
       "      <td>1990.5</td>\n",
       "      <td>7362.9</td>\n",
       "      <td>346.45</td>\n",
       "      <td>6844.5</td>\n",
       "    </tr>\n",
       "    <tr>\n",
       "      <th>churn_label</th>\n",
       "      <td>No</td>\n",
       "      <td>No</td>\n",
       "      <td>No</td>\n",
       "      <td>No</td>\n",
       "      <td>No</td>\n",
       "    </tr>\n",
       "    <tr>\n",
       "      <th>churn_value</th>\n",
       "      <td>0</td>\n",
       "      <td>0</td>\n",
       "      <td>0</td>\n",
       "      <td>0</td>\n",
       "      <td>0</td>\n",
       "    </tr>\n",
       "    <tr>\n",
       "      <th>churn_score</th>\n",
       "      <td>45</td>\n",
       "      <td>59</td>\n",
       "      <td>71</td>\n",
       "      <td>59</td>\n",
       "      <td>38</td>\n",
       "    </tr>\n",
       "    <tr>\n",
       "      <th>CLTV</th>\n",
       "      <td>5306</td>\n",
       "      <td>2140</td>\n",
       "      <td>5560</td>\n",
       "      <td>2793</td>\n",
       "      <td>5097</td>\n",
       "    </tr>\n",
       "    <tr>\n",
       "      <th>churn_reason</th>\n",
       "      <td>NaN</td>\n",
       "      <td>NaN</td>\n",
       "      <td>NaN</td>\n",
       "      <td>NaN</td>\n",
       "      <td>NaN</td>\n",
       "    </tr>\n",
       "  </tbody>\n",
       "</table>\n",
       "</div>"
      ],
      "text/plain": [
       "                                        7038                    7039  \\\n",
       "customerID                        2569-WGERO              6840-RESVB   \n",
       "count                                      1                       1   \n",
       "country                        United States           United States   \n",
       "state                             California              California   \n",
       "city                                 Landers                Adelanto   \n",
       "zip_code                               92285                   92301   \n",
       "lat_long              34.341737, -116.539416  34.667815, -117.536183   \n",
       "latitude                           34.341737               34.667815   \n",
       "longitude                        -116.539416             -117.536183   \n",
       "gender                                Female                    Male   \n",
       "senior_citizen                            No                      No   \n",
       "partner                                   No                     Yes   \n",
       "dependents                                No                     Yes   \n",
       "tenure_months                             72                      24   \n",
       "phone_service                            Yes                     Yes   \n",
       "multiple_lines                            No                     Yes   \n",
       "internet_service                          No                     DSL   \n",
       "online_security          No internet service                     Yes   \n",
       "online_backup            No internet service                      No   \n",
       "device_protection        No internet service                     Yes   \n",
       "tech_support             No internet service                     Yes   \n",
       "streaming_tv             No internet service                     Yes   \n",
       "streaming_movies         No internet service                     Yes   \n",
       "contract                            Two year                One year   \n",
       "paperless_billing                        Yes                     Yes   \n",
       "payment_method     Bank transfer (automatic)            Mailed check   \n",
       "monthly_charges                        21.15                    84.8   \n",
       "total_charges                         1419.4                  1990.5   \n",
       "churn_label                               No                      No   \n",
       "churn_value                                0                       0   \n",
       "churn_score                               45                      59   \n",
       "CLTV                                    5306                    2140   \n",
       "churn_reason                             NaN                     NaN   \n",
       "\n",
       "                                      7040                 7041  \\\n",
       "customerID                      2234-XADUH           4801-JZAZL   \n",
       "count                                    1                    1   \n",
       "country                      United States        United States   \n",
       "state                           California           California   \n",
       "city                                 Amboy         Angelus Oaks   \n",
       "zip_code                             92304                92305   \n",
       "lat_long            34.559882, -115.637164  34.1678, -116.86433   \n",
       "latitude                         34.559882              34.1678   \n",
       "longitude                      -115.637164           -116.86433   \n",
       "gender                              Female               Female   \n",
       "senior_citizen                          No                   No   \n",
       "partner                                Yes                  Yes   \n",
       "dependents                             Yes                  Yes   \n",
       "tenure_months                           72                   11   \n",
       "phone_service                          Yes                   No   \n",
       "multiple_lines                         Yes     No phone service   \n",
       "internet_service               Fiber optic                  DSL   \n",
       "online_security                         No                  Yes   \n",
       "online_backup                          Yes                   No   \n",
       "device_protection                      Yes                   No   \n",
       "tech_support                            No                   No   \n",
       "streaming_tv                           Yes                   No   \n",
       "streaming_movies                       Yes                   No   \n",
       "contract                          One year       Month-to-month   \n",
       "paperless_billing                      Yes                  Yes   \n",
       "payment_method     Credit card (automatic)     Electronic check   \n",
       "monthly_charges                      103.2                 29.6   \n",
       "total_charges                       7362.9               346.45   \n",
       "churn_label                             No                   No   \n",
       "churn_value                              0                    0   \n",
       "churn_score                             71                   59   \n",
       "CLTV                                  5560                 2793   \n",
       "churn_reason                           NaN                  NaN   \n",
       "\n",
       "                                        7042  \n",
       "customerID                        3186-AJIEK  \n",
       "count                                      1  \n",
       "country                        United States  \n",
       "state                             California  \n",
       "city                            Apple Valley  \n",
       "zip_code                               92308  \n",
       "lat_long              34.424926, -117.184503  \n",
       "latitude                           34.424926  \n",
       "longitude                        -117.184503  \n",
       "gender                                  Male  \n",
       "senior_citizen                            No  \n",
       "partner                                   No  \n",
       "dependents                                No  \n",
       "tenure_months                             66  \n",
       "phone_service                            Yes  \n",
       "multiple_lines                            No  \n",
       "internet_service                 Fiber optic  \n",
       "online_security                          Yes  \n",
       "online_backup                             No  \n",
       "device_protection                        Yes  \n",
       "tech_support                             Yes  \n",
       "streaming_tv                             Yes  \n",
       "streaming_movies                         Yes  \n",
       "contract                            Two year  \n",
       "paperless_billing                        Yes  \n",
       "payment_method     Bank transfer (automatic)  \n",
       "monthly_charges                       105.65  \n",
       "total_charges                         6844.5  \n",
       "churn_label                               No  \n",
       "churn_value                                0  \n",
       "churn_score                               38  \n",
       "CLTV                                    5097  \n",
       "churn_reason                             NaN  "
      ]
     },
     "execution_count": 7,
     "metadata": {},
     "output_type": "execute_result"
    }
   ],
   "source": [
    "df.columns = ['customerID','count','country','state','city','zip_code' ,'lat_long','latitude','longitude',\n",
    "              'gender','senior_citizen','partner','dependents','tenure_months','phone_service','multiple_lines',\n",
    "              'internet_service','online_security','online_backup','device_protection','tech_support','streaming_tv',\n",
    "              'streaming_movies','contract','paperless_billing','payment_method','monthly_charges','total_charges',\n",
    "              'churn_label','churn_value','churn_score','CLTV','churn_reason']\n",
    "df.tail().T"
   ]
  },
  {
   "cell_type": "code",
   "execution_count": 9,
   "id": "2d57e55f",
   "metadata": {},
   "outputs": [],
   "source": [
    "df['gender'] = df['gender'].replace({'Male': 1, 'Female': 0})"
   ]
  },
  {
   "cell_type": "code",
   "execution_count": 11,
   "id": "2f11745b",
   "metadata": {},
   "outputs": [],
   "source": [
    "cat_col = ['senior_citizen', 'partner', 'dependents', 'phone_service', 'multiple_lines','online_security', 'online_backup', \n",
    "        'device_protection', 'tech_support', 'streaming_tv', 'streaming_movies', 'paperless_billing']\n",
    "df[cat_col] = df[cat_col].replace({'Yes':1, 'No':0}).replace(regex=r'No.*', value=0)"
   ]
  },
  {
   "cell_type": "code",
   "execution_count": 12,
   "id": "02c120a8",
   "metadata": {},
   "outputs": [],
   "source": [
    "df['internet_service'] = df['internet_service'].replace({'Fiber optic': 0, 'DSL': 1, 'No': 2})\n",
    "df['contract'] = df['contract'].replace({'Month-to-month': 0, 'Two year': 1, 'One year': 2})\n",
    "df['payment_method'] = df['payment_method'].replace({'Electronic check': 0,\n",
    " 'Mailed check': 1,\n",
    " 'Bank transfer (automatic)': 2,\n",
    " 'Credit card (automatic)': 3})"
   ]
  },
  {
   "cell_type": "code",
   "execution_count": 18,
   "id": "5e1d3978",
   "metadata": {},
   "outputs": [
    {
     "data": {
      "text/plain": [
       "0    0.73463\n",
       "1    0.26537\n",
       "Name: churn_value, dtype: float64"
      ]
     },
     "execution_count": 18,
     "metadata": {},
     "output_type": "execute_result"
    }
   ],
   "source": [
    "df['churn_value'].value_counts(normalize=True)"
   ]
  },
  {
   "cell_type": "markdown",
   "id": "8f22b73b",
   "metadata": {},
   "source": [
    "# Model Building"
   ]
  },
  {
   "cell_type": "markdown",
   "id": "bb053b57",
   "metadata": {},
   "source": [
    "## Logistic Regression"
   ]
  },
  {
   "cell_type": "code",
   "execution_count": 16,
   "id": "c68fab70",
   "metadata": {},
   "outputs": [],
   "source": [
    "x = df.drop('churn_value', axis = 1)\n",
    "y = df['churn_value']"
   ]
  },
  {
   "cell_type": "code",
   "execution_count": 19,
   "id": "f48160b8",
   "metadata": {},
   "outputs": [],
   "source": [
    "x=x.apply(pd.to_numeric,errors='coerce')\n",
    "y=y.apply(pd.to_numeric,errors='coerce')\n",
    "\n",
    "x.fillna(0,inplace=True)\n",
    "y.fillna(0,inplace=True)"
   ]
  },
  {
   "cell_type": "code",
   "execution_count": 20,
   "id": "8e0c1e03",
   "metadata": {},
   "outputs": [
    {
     "data": {
      "text/plain": [
       "LogisticRegression()"
      ]
     },
     "execution_count": 20,
     "metadata": {},
     "output_type": "execute_result"
    }
   ],
   "source": [
    "x_train, x_test, y_train, y_test = train_test_split(x,y, test_size=0.25, random_state=12, stratify=y)\n",
    "logistic_clf = LogisticRegression()\n",
    "logistic_clf.fit(x_train, y_train)"
   ]
  },
  {
   "cell_type": "code",
   "execution_count": 26,
   "id": "558a16a0",
   "metadata": {},
   "outputs": [
    {
     "name": "stdout",
     "output_type": "stream",
     "text": [
      "*******************Test Data Evaluation***********************\n",
      "Accuracy Score : 0.9040318001135719\n",
      "************************************************************\n",
      "Confusion Matrix : \n",
      " [[1213   81]\n",
      " [  88  379]]\n",
      "************************************************************\n",
      "Classification Report : \n",
      "               precision    recall  f1-score   support\n",
      "\n",
      "           0       0.93      0.94      0.93      1294\n",
      "           1       0.82      0.81      0.82       467\n",
      "\n",
      "    accuracy                           0.90      1761\n",
      "   macro avg       0.88      0.87      0.88      1761\n",
      "weighted avg       0.90      0.90      0.90      1761\n",
      "\n",
      "************************************************************\n",
      "*******************Train Data Evaluation***********************\n",
      "Accuracy Score : 0.9076107535024612\n",
      "************************************************************\n",
      "Confusion Matrix : \n",
      " [[3655  225]\n",
      " [ 263 1139]]\n",
      "************************************************************\n",
      "Classification Report : \n",
      "               precision    recall  f1-score   support\n",
      "\n",
      "           0       0.93      0.94      0.94      3880\n",
      "           1       0.84      0.81      0.82      1402\n",
      "\n",
      "    accuracy                           0.91      5282\n",
      "   macro avg       0.88      0.88      0.88      5282\n",
      "weighted avg       0.91      0.91      0.91      5282\n",
      "\n",
      "************************************************************\n"
     ]
    }
   ],
   "source": [
    "def evaluate_model(string, model, ind_var, act):\n",
    "    string.center(60,'*')\n",
    "    pred = model.predict(ind_var)\n",
    "    \n",
    "    acc_score = accuracy_score(act, pred)\n",
    "    print('Accuracy Score :', acc_score)\n",
    "    print('***'*20)\n",
    "    \n",
    "    cnf_matrix = confusion_matrix(act, pred)\n",
    "    print('Confusion Matrix : \\n', cnf_matrix)\n",
    "    print('***'*20)\n",
    "    \n",
    "    clf_report = classification_report(act, pred)\n",
    "    print('Classification Report : \\n', clf_report)\n",
    "    print('***'*20)\n",
    "\n",
    "print('*******************Test Data Evaluation***********************')\n",
    "evaluate_model('Test Data Evaluation', logistic_clf, x_test, y_test)\n",
    "print('*******************Train Data Evaluation***********************')\n",
    "evaluate_model('Train Data Evaluation', logistic_clf, x_train, y_train)"
   ]
  },
  {
   "cell_type": "markdown",
   "id": "89eb8fd5",
   "metadata": {},
   "source": [
    "## UnderSampling"
   ]
  },
  {
   "cell_type": "markdown",
   "id": "53be3f20",
   "metadata": {},
   "source": [
    "## 1. Random UnderSampling\n"
   ]
  },
  {
   "cell_type": "code",
   "execution_count": 28,
   "id": "bfb364d6",
   "metadata": {},
   "outputs": [
    {
     "data": {
      "text/plain": [
       "0    0.73463\n",
       "1    0.26537\n",
       "Name: churn_value, dtype: float64"
      ]
     },
     "execution_count": 28,
     "metadata": {},
     "output_type": "execute_result"
    }
   ],
   "source": [
    "df['churn_value'].value_counts(normalize=True)"
   ]
  },
  {
   "cell_type": "code",
   "execution_count": 29,
   "id": "c7aa3db2",
   "metadata": {},
   "outputs": [
    {
     "data": {
      "text/plain": [
       "<AxesSubplot:ylabel='churn_value'>"
      ]
     },
     "execution_count": 29,
     "metadata": {},
     "output_type": "execute_result"
    },
    {
     "data": {
      "image/png": "[encoded data removed]",
      "text/plain": [
       "<Figure size 432x288 with 1 Axes>"
      ]
     },
     "metadata": {},
     "output_type": "display_data"
    }
   ],
   "source": [
    "df['churn_value'].value_counts(normalize=True).plot(kind = 'pie', labels = ['Non Churn Customer', 'Churn Customer'], autopct = '%1.2f%%')"
   ]
  },
  {
   "cell_type": "code",
   "execution_count": 30,
   "id": "0a8c1c80",
   "metadata": {},
   "outputs": [],
   "source": [
    "from imblearn.under_sampling import RandomUnderSampler"
   ]
  },
  {
   "cell_type": "code",
   "execution_count": 31,
   "id": "5fc860b8",
   "metadata": {},
   "outputs": [
    {
     "data": {
      "text/plain": [
       "0    5174\n",
       "1    1869\n",
       "Name: churn_value, dtype: int64"
      ]
     },
     "execution_count": 31,
     "metadata": {},
     "output_type": "execute_result"
    }
   ],
   "source": [
    "y.value_counts()"
   ]
  },
  {
   "cell_type": "code",
   "execution_count": 32,
   "id": "f66b1765",
   "metadata": {},
   "outputs": [
    {
     "data": {
      "text/plain": [
       "(5282, 32)"
      ]
     },
     "execution_count": 32,
     "metadata": {},
     "output_type": "execute_result"
    }
   ],
   "source": [
    "x_train.shape"
   ]
  },
  {
   "cell_type": "code",
   "execution_count": 33,
   "id": "4dfba70c",
   "metadata": {},
   "outputs": [
    {
     "data": {
      "text/plain": [
       "0    3880\n",
       "1    1402\n",
       "Name: churn_value, dtype: int64"
      ]
     },
     "execution_count": 33,
     "metadata": {},
     "output_type": "execute_result"
    }
   ],
   "source": [
    "y_train.value_counts()"
   ]
  },
  {
   "cell_type": "code",
   "execution_count": 37,
   "id": "5929881a",
   "metadata": {},
   "outputs": [
    {
     "name": "stdout",
     "output_type": "stream",
     "text": [
      "0    5174\n",
      "1    1869\n",
      "Name: churn_value, dtype: int64\n",
      "0    1869\n",
      "1    1869\n",
      "Name: churn_value, dtype: int64\n"
     ]
    }
   ],
   "source": [
    "rndm_us = RandomUnderSampler(sampling_strategy=1)\n",
    "x_samples, y_samples = rndm_us.fit_resample(x,y)\n",
    "print(y.value_counts())\n",
    "print(y_samples.value_counts())"
   ]
  },
  {
   "cell_type": "code",
   "execution_count": 35,
   "id": "72a1c62a",
   "metadata": {},
   "outputs": [
    {
     "name": "stdout",
     "output_type": "stream",
     "text": [
      "0    5174\n",
      "1    1869\n",
      "Name: churn_value, dtype: int64\n",
      "0    2670\n",
      "1    1869\n",
      "Name: churn_value, dtype: int64\n"
     ]
    }
   ],
   "source": [
    "rndm_us = RandomUnderSampler(sampling_strategy=0.7)\n",
    "x_samples, y_samples = rndm_us.fit_resample(x,y)\n",
    "print(y.value_counts())\n",
    "print(y_samples.value_counts())"
   ]
  },
  {
   "cell_type": "code",
   "execution_count": 36,
   "id": "f139fd93",
   "metadata": {},
   "outputs": [
    {
     "data": {
      "text/plain": [
       "LogisticRegression()"
      ]
     },
     "execution_count": 36,
     "metadata": {},
     "output_type": "execute_result"
    }
   ],
   "source": [
    "x_train, x_test, y_train, y_test = train_test_split(x_samples,y_samples, test_size=0.25, random_state=12, stratify=y_samples)\n",
    "logistic_clf = LogisticRegression()\n",
    "logistic_clf.fit(x_train, y_train)"
   ]
  },
  {
   "cell_type": "code",
   "execution_count": 39,
   "id": "e0f4b564",
   "metadata": {},
   "outputs": [
    {
     "name": "stdout",
     "output_type": "stream",
     "text": [
      "*******************Test Data Evaluation***********************\n",
      "Accuracy Score : 0.8995594713656387\n",
      "************************************************************\n",
      "Confusion Matrix : \n",
      " [[597  71]\n",
      " [ 43 424]]\n",
      "************************************************************\n",
      "Classification Report : \n",
      "               precision    recall  f1-score   support\n",
      "\n",
      "           0       0.93      0.89      0.91       668\n",
      "           1       0.86      0.91      0.88       467\n",
      "\n",
      "    accuracy                           0.90      1135\n",
      "   macro avg       0.89      0.90      0.90      1135\n",
      "weighted avg       0.90      0.90      0.90      1135\n",
      "\n",
      "************************************************************\n",
      "*******************Train Data Evaluation***********************\n",
      "Accuracy Score : 0.895710928319624\n",
      "************************************************************\n",
      "Confusion Matrix : \n",
      " [[1814  188]\n",
      " [ 167 1235]]\n",
      "************************************************************\n",
      "Classification Report : \n",
      "               precision    recall  f1-score   support\n",
      "\n",
      "           0       0.92      0.91      0.91      2002\n",
      "           1       0.87      0.88      0.87      1402\n",
      "\n",
      "    accuracy                           0.90      3404\n",
      "   macro avg       0.89      0.89      0.89      3404\n",
      "weighted avg       0.90      0.90      0.90      3404\n",
      "\n",
      "************************************************************\n"
     ]
    }
   ],
   "source": [
    "print('*******************Test Data Evaluation***********************')\n",
    "evaluate_model('Test Data Evaluation', logistic_clf, x_test, y_test)\n",
    "print('*******************Train Data Evaluation***********************')\n",
    "evaluate_model('Train Data Evaluation', logistic_clf, x_train, y_train)"
   ]
  },
  {
   "cell_type": "markdown",
   "id": "c013e902",
   "metadata": {},
   "source": [
    "# Oversampling"
   ]
  },
  {
   "cell_type": "code",
   "execution_count": 40,
   "id": "af952e80",
   "metadata": {},
   "outputs": [],
   "source": [
    "from imblearn.over_sampling import RandomOverSampler, SMOTE\n",
    "from imblearn.combine import SMOTETomek"
   ]
  },
  {
   "cell_type": "code",
   "execution_count": 41,
   "id": "a98d18e3",
   "metadata": {},
   "outputs": [
    {
     "name": "stdout",
     "output_type": "stream",
     "text": [
      "0    2002\n",
      "1    1402\n",
      "Name: churn_value, dtype: int64\n",
      "0    2002\n",
      "1    1601\n",
      "Name: churn_value, dtype: int64\n"
     ]
    }
   ],
   "source": [
    "rndm_os = RandomOverSampler(sampling_strategy=0.8)\n",
    "x_train_ros, y_train_ros = rndm_os.fit_resample(x_train,y_train)\n",
    "print(y_train.value_counts())\n",
    "print(y_train_ros.value_counts())"
   ]
  },
  {
   "cell_type": "code",
   "execution_count": 43,
   "id": "018cf363",
   "metadata": {},
   "outputs": [
    {
     "name": "stdout",
     "output_type": "stream",
     "text": [
      "*******************Test Data Evaluation***********************\n",
      "Accuracy Score : 0.8960352422907489\n",
      "************************************************************\n",
      "Confusion Matrix : \n",
      " [[589  79]\n",
      " [ 39 428]]\n",
      "************************************************************\n",
      "Classification Report : \n",
      "               precision    recall  f1-score   support\n",
      "\n",
      "           0       0.94      0.88      0.91       668\n",
      "           1       0.84      0.92      0.88       467\n",
      "\n",
      "    accuracy                           0.90      1135\n",
      "   macro avg       0.89      0.90      0.89      1135\n",
      "weighted avg       0.90      0.90      0.90      1135\n",
      "\n",
      "************************************************************\n",
      "*******************Train Data Evaluation***********************\n",
      "Accuracy Score : 0.8981404385234527\n",
      "************************************************************\n",
      "Confusion Matrix : \n",
      " [[1802  200]\n",
      " [ 167 1434]]\n",
      "************************************************************\n",
      "Classification Report : \n",
      "               precision    recall  f1-score   support\n",
      "\n",
      "           0       0.92      0.90      0.91      2002\n",
      "           1       0.88      0.90      0.89      1601\n",
      "\n",
      "    accuracy                           0.90      3603\n",
      "   macro avg       0.90      0.90      0.90      3603\n",
      "weighted avg       0.90      0.90      0.90      3603\n",
      "\n",
      "************************************************************\n"
     ]
    }
   ],
   "source": [
    "logistic_clf = LogisticRegression()\n",
    "logistic_clf.fit(x_train_ros, y_train_ros)\n",
    "print('*******************Test Data Evaluation***********************')\n",
    "evaluate_model('Test Data Evaluation', logistic_clf, x_test, y_test)\n",
    "print('*******************Train Data Evaluation***********************')\n",
    "evaluate_model('Train Data Evaluation', logistic_clf, x_train_ros, y_train_ros)"
   ]
  },
  {
   "cell_type": "markdown",
   "id": "84f67142",
   "metadata": {},
   "source": [
    "## SMOTE"
   ]
  },
  {
   "cell_type": "code",
   "execution_count": 46,
   "id": "2fe5bbcc",
   "metadata": {},
   "outputs": [
    {
     "name": "stdout",
     "output_type": "stream",
     "text": [
      "0    2002\n",
      "1    1402\n",
      "Name: churn_value, dtype: int64\n",
      "0    2002\n",
      "1    1701\n",
      "Name: churn_value, dtype: int64\n",
      "*******************Test Data Evaluation***********************\n",
      "Accuracy Score : 0.8942731277533039\n",
      "************************************************************\n",
      "Confusion Matrix : \n",
      " [[587  81]\n",
      " [ 39 428]]\n",
      "************************************************************\n",
      "Classification Report : \n",
      "               precision    recall  f1-score   support\n",
      "\n",
      "           0       0.94      0.88      0.91       668\n",
      "           1       0.84      0.92      0.88       467\n",
      "\n",
      "    accuracy                           0.89      1135\n",
      "   macro avg       0.89      0.90      0.89      1135\n",
      "weighted avg       0.90      0.89      0.89      1135\n",
      "\n",
      "************************************************************\n",
      "*******************Train Data Evaluation***********************\n",
      "Accuracy Score : 0.9014312719416689\n",
      "************************************************************\n",
      "Confusion Matrix : \n",
      " [[1797  205]\n",
      " [ 160 1541]]\n",
      "************************************************************\n",
      "Classification Report : \n",
      "               precision    recall  f1-score   support\n",
      "\n",
      "           0       0.92      0.90      0.91      2002\n",
      "           1       0.88      0.91      0.89      1701\n",
      "\n",
      "    accuracy                           0.90      3703\n",
      "   macro avg       0.90      0.90      0.90      3703\n",
      "weighted avg       0.90      0.90      0.90      3703\n",
      "\n",
      "************************************************************\n"
     ]
    }
   ],
   "source": [
    "smote_os = SMOTE(sampling_strategy=0.85)\n",
    "x_train_sm, y_train_sm = smote_os.fit_resample(x_train,y_train)\n",
    "print(y_train.value_counts())\n",
    "print(y_train_sm.value_counts())\n",
    "\n",
    "logistic_clf = LogisticRegression()\n",
    "logistic_clf.fit(x_train_sm, y_train_sm)\n",
    "print('*******************Test Data Evaluation***********************')\n",
    "evaluate_model('Test Data Evaluation', logistic_clf, x_test, y_test)\n",
    "print('*******************Train Data Evaluation***********************')\n",
    "evaluate_model('Train Data Evaluation', logistic_clf, x_train_sm, y_train_sm)"
   ]
  },
  {
   "cell_type": "markdown",
   "id": "04c9f172",
   "metadata": {},
   "source": [
    "## Oversampling + Undersampling"
   ]
  },
  {
   "cell_type": "code",
   "execution_count": 47,
   "id": "9f322475",
   "metadata": {},
   "outputs": [
    {
     "name": "stdout",
     "output_type": "stream",
     "text": [
      "0    2002\n",
      "1    1402\n",
      "Name: churn_value, dtype: int64\n",
      "0    2002\n",
      "1    1402\n",
      "Name: churn_value, dtype: int64\n",
      "0    2002\n",
      "1    1402\n",
      "Name: churn_value, dtype: int64\n",
      "0    2002\n",
      "1    1601\n",
      "Name: churn_value, dtype: int64\n",
      "*******************Test Data Evaluation***********************\n",
      "Accuracy Score : 0.8951541850220265\n",
      "************************************************************\n",
      "Confusion Matrix : \n",
      " [[589  79]\n",
      " [ 40 427]]\n",
      "************************************************************\n",
      "Classification Report : \n",
      "               precision    recall  f1-score   support\n",
      "\n",
      "           0       0.94      0.88      0.91       668\n",
      "           1       0.84      0.91      0.88       467\n",
      "\n",
      "    accuracy                           0.90      1135\n",
      "   macro avg       0.89      0.90      0.89      1135\n",
      "weighted avg       0.90      0.90      0.90      1135\n",
      "\n",
      "************************************************************\n",
      "*******************Train Data Evaluation***********************\n",
      "Accuracy Score : 0.8970302525673051\n",
      "************************************************************\n",
      "Confusion Matrix : \n",
      " [[1801  201]\n",
      " [ 170 1431]]\n",
      "************************************************************\n",
      "Classification Report : \n",
      "               precision    recall  f1-score   support\n",
      "\n",
      "           0       0.91      0.90      0.91      2002\n",
      "           1       0.88      0.89      0.89      1601\n",
      "\n",
      "    accuracy                           0.90      3603\n",
      "   macro avg       0.90      0.90      0.90      3603\n",
      "weighted avg       0.90      0.90      0.90      3603\n",
      "\n",
      "************************************************************\n"
     ]
    }
   ],
   "source": [
    "rndm_us = RandomUnderSampler(sampling_strategy=0.7)\n",
    "x_train_rus, y_train_rus = rndm_us.fit_resample(x_train,y_train)\n",
    "print(y_train.value_counts())\n",
    "print(y_train_rus.value_counts())\n",
    "\n",
    "rndm_os = RandomOverSampler(sampling_strategy=0.8)\n",
    "x_train_samples, y_train_samples = rndm_os.fit_resample(x_train_rus,y_train_rus)\n",
    "print(y_train.value_counts())\n",
    "print(y_train_samples.value_counts())\n",
    "\n",
    "logistic_clf = LogisticRegression()\n",
    "logistic_clf.fit(x_train_samples, y_train_samples)\n",
    "print('*******************Test Data Evaluation***********************')\n",
    "evaluate_model('Test Data Evaluation', logistic_clf, x_test, y_test)\n",
    "print('*******************Train Data Evaluation***********************')\n",
    "evaluate_model('Train Data Evaluation', logistic_clf, x_train_samples, y_train_samples)"
   ]
  },
  {
   "cell_type": "markdown",
   "id": "a7ef72ab",
   "metadata": {},
   "source": [
    "# Decision Tree "
   ]
  },
  {
   "cell_type": "code",
   "execution_count": 49,
   "id": "b5336fd7",
   "metadata": {},
   "outputs": [],
   "source": [
    "X = df.drop(['churn_value'],axis=1)\n",
    "Y = df['churn_value']"
   ]
  },
  {
   "cell_type": "code",
   "execution_count": 50,
   "id": "2c880deb",
   "metadata": {},
   "outputs": [],
   "source": [
    "X=X.apply(pd.to_numeric,errors='coerce')\n",
    "Y=Y.apply(pd.to_numeric,errors='coerce')\n",
    "\n",
    "X.fillna(0,inplace=True)\n",
    "Y.fillna(0,inplace=True)"
   ]
  },
  {
   "cell_type": "code",
   "execution_count": 53,
   "id": "526c3f7f",
   "metadata": {},
   "outputs": [
    {
     "data": {
      "text/plain": [
       "DecisionTreeClassifier(max_depth=6, min_samples_leaf=8, random_state=25)"
      ]
     },
     "execution_count": 53,
     "metadata": {},
     "output_type": "execute_result"
    }
   ],
   "source": [
    "x_train, x_test, y_train, y_test = train_test_split(X,Y,test_size=0.2, random_state=2,stratify=Y)\n",
    "dt_model = DecisionTreeClassifier(criterion='gini',max_depth=6,min_samples_leaf=8,random_state=25)\n",
    "dt_model.fit(x_train,y_train)"
   ]
  },
  {
   "cell_type": "code",
   "execution_count": 55,
   "id": "dba95bb8",
   "metadata": {},
   "outputs": [
    {
     "name": "stdout",
     "output_type": "stream",
     "text": [
      "*******************Test Data Evaluation***********************\n",
      "Accuracy Score : 0.9389638041163946\n",
      "************************************************************\n",
      "Confusion Matrix : \n",
      " [[984  51]\n",
      " [ 35 339]]\n",
      "************************************************************\n",
      "Classification Report : \n",
      "               precision    recall  f1-score   support\n",
      "\n",
      "           0       0.97      0.95      0.96      1035\n",
      "           1       0.87      0.91      0.89       374\n",
      "\n",
      "    accuracy                           0.94      1409\n",
      "   macro avg       0.92      0.93      0.92      1409\n",
      "weighted avg       0.94      0.94      0.94      1409\n",
      "\n",
      "************************************************************\n",
      "*******************Train Data Evaluation***********************\n",
      "Accuracy Score : 0.931487397941072\n",
      "************************************************************\n",
      "Confusion Matrix : \n",
      " [[3924  215]\n",
      " [ 171 1324]]\n",
      "************************************************************\n",
      "Classification Report : \n",
      "               precision    recall  f1-score   support\n",
      "\n",
      "           0       0.96      0.95      0.95      4139\n",
      "           1       0.86      0.89      0.87      1495\n",
      "\n",
      "    accuracy                           0.93      5634\n",
      "   macro avg       0.91      0.92      0.91      5634\n",
      "weighted avg       0.93      0.93      0.93      5634\n",
      "\n",
      "************************************************************\n"
     ]
    }
   ],
   "source": [
    "print('*******************Test Data Evaluation***********************')\n",
    "evaluate_model('Test Data Evaluation', dt_model, x_test, y_test)\n",
    "print('*******************Train Data Evaluation***********************')\n",
    "evaluate_model('Train Data Evaluation', dt_model, x_train, y_train)"
   ]
  },
  {
   "cell_type": "code",
   "execution_count": 56,
   "id": "a9307b32",
   "metadata": {},
   "outputs": [
    {
     "data": {
      "text/plain": [
       "DecisionTreeClassifier(random_state=20)"
      ]
     },
     "execution_count": 56,
     "metadata": {},
     "output_type": "execute_result"
    }
   ],
   "source": [
    "dt_clf_pruning = DecisionTreeClassifier(random_state=20)\n",
    "dt_clf_pruning.fit(x_train,y_train)"
   ]
  },
  {
   "cell_type": "markdown",
   "id": "b5f9452e",
   "metadata": {},
   "source": [
    "## Pruning"
   ]
  },
  {
   "cell_type": "code",
   "execution_count": 57,
   "id": "0ad52e47",
   "metadata": {},
   "outputs": [
    {
     "data": {
      "text/plain": [
       "array([0.00000000e+00, 1.33120341e-04, 1.39436561e-04, 1.57772256e-04,\n",
       "       1.59744409e-04, 1.59744409e-04, 1.61357989e-04, 1.61357989e-04,\n",
       "       1.62702639e-04, 1.63840419e-04, 1.67052977e-04, 1.67351286e-04,\n",
       "       1.69041703e-04, 1.69425888e-04, 1.70394036e-04, 1.71265936e-04,\n",
       "       1.71373312e-04, 1.71768182e-04, 1.72696658e-04, 1.73273656e-04,\n",
       "       1.74763114e-04, 1.77769485e-04, 2.02850043e-04, 2.12992545e-04,\n",
       "       2.12992545e-04, 2.21867235e-04, 2.23687684e-04, 2.29197175e-04,\n",
       "       2.36658384e-04, 2.36658384e-04, 2.36658384e-04, 2.36658384e-04,\n",
       "       2.36658384e-04, 2.36658384e-04, 2.36658384e-04, 2.36658384e-04,\n",
       "       2.36658384e-04, 2.36658384e-04, 2.39616613e-04, 2.52435609e-04,\n",
       "       2.53697787e-04, 2.62144671e-04, 2.66240682e-04, 2.66240682e-04,\n",
       "       2.66240682e-04, 2.66240682e-04, 2.66240682e-04, 2.66240682e-04,\n",
       "       2.77382067e-04, 2.83990060e-04, 2.83990060e-04, 2.83990060e-04,\n",
       "       2.83990060e-04, 2.86720734e-04, 2.95822980e-04, 2.95822980e-04,\n",
       "       2.98936906e-04, 3.04275065e-04, 3.04275065e-04, 3.04275065e-04,\n",
       "       3.04275065e-04, 3.04275065e-04, 3.05468300e-04, 3.09346316e-04,\n",
       "       3.09386405e-04, 3.10614129e-04, 3.10614129e-04, 3.10614129e-04,\n",
       "       3.10614129e-04, 3.14573605e-04, 3.15544511e-04, 3.15544511e-04,\n",
       "       3.15544511e-04, 3.19488818e-04, 3.19488818e-04, 3.19488818e-04,\n",
       "       3.22715978e-04, 3.26962241e-04, 3.27680839e-04, 3.27680839e-04,\n",
       "       3.31054829e-04, 3.31577584e-04, 3.34537204e-04, 3.36304019e-04,\n",
       "       3.38851777e-04, 3.39022526e-04, 3.44230376e-04, 3.44230376e-04,\n",
       "       3.48759723e-04, 3.53895306e-04, 3.55973652e-04, 3.60904035e-04,\n",
       "       3.84147269e-04, 3.85076792e-04, 3.87259173e-04, 3.88436253e-04,\n",
       "       3.99361022e-04, 4.02548517e-04, 4.05700086e-04, 4.14152171e-04,\n",
       "       4.16647948e-04, 4.19329073e-04, 4.25985091e-04, 4.28520716e-04,\n",
       "       4.28721801e-04, 4.31343394e-04, 4.44149787e-04, 4.62533072e-04,\n",
       "       4.73316767e-04, 4.73316767e-04, 4.83177533e-04, 4.97904651e-04,\n",
       "       5.04684051e-04, 5.08876489e-04, 5.20748893e-04, 5.32901448e-04,\n",
       "       5.33124836e-04, 5.34038326e-04, 5.68792821e-04, 5.85381472e-04,\n",
       "       5.92370991e-04, 5.93117559e-04, 5.93949376e-04, 6.15018236e-04,\n",
       "       6.44740935e-04, 6.62134412e-04, 6.76952199e-04, 7.57306828e-04,\n",
       "       7.83060828e-04, 8.00997606e-04, 8.05433995e-04, 8.12020197e-04,\n",
       "       8.51238441e-04, 9.02614517e-04, 9.14924364e-04, 1.05794058e-03,\n",
       "       1.71075410e-03, 1.77372115e-03, 4.03915992e-03, 4.46923770e-03,\n",
       "       7.16735196e-03, 3.00282476e-02, 5.48951156e-02, 1.87811806e-01])"
      ]
     },
     "execution_count": 57,
     "metadata": {},
     "output_type": "execute_result"
    }
   ],
   "source": [
    "result = dt_clf_pruning.cost_complexity_pruning_path(x_train,y_train)\n",
    "ccp_alphas = result['ccp_alphas']\n",
    "ccp_alphas"
   ]
  },
  {
   "cell_type": "code",
   "execution_count": 58,
   "id": "146118cc",
   "metadata": {},
   "outputs": [
    {
     "name": "stdout",
     "output_type": "stream",
     "text": [
      "0.0 >> 1.0 >> 0.915542938254081\n",
      "0.00013312034078807243 >> 0.9998225062122825 >> 0.915542938254081\n",
      "0.00013943656116180086 >> 0.9994675186368477 >> 0.915542938254081\n",
      "0.00015777225574882656 >> 0.9992900248491303 >> 0.915542938254081\n",
      "0.00015974440894568693 >> 0.9989350372736954 >> 0.915542938254081\n",
      "0.00015974440894568693 >> 0.9989350372736954 >> 0.915542938254081\n",
      "0.00016135798883402719 >> 0.9985800496982605 >> 0.9162526614620298\n",
      "0.00016135798883402719 >> 0.9985800496982605 >> 0.9162526614620298\n",
      "0.0001627026387409774 >> 0.9984025559105432 >> 0.9162526614620298\n",
      "0.0001638404194314737 >> 0.9982250621228257 >> 0.9176721078779276\n",
      "0.00016705297667522816 >> 0.9978700745473909 >> 0.9176721078779276\n",
      "0.0001673512855621481 >> 0.997515086971956 >> 0.9176721078779276\n",
      "0.0001690417025880285 >> 0.9973375931842385 >> 0.9176721078779276\n",
      "0.00016942588827572862 >> 0.9971600993965212 >> 0.9176721078779276\n",
      "0.00017039403620873264 >> 0.9969826056088037 >> 0.9176721078779276\n",
      "0.00017126593551681837 >> 0.9966276180333689 >> 0.9176721078779276\n",
      "0.0001713733122788977 >> 0.9964501242456514 >> 0.9183818310858765\n",
      "0.0001717681816620288 >> 0.996272630457934 >> 0.9190915542938254\n",
      "0.00017269665831966168 >> 0.9959176428824991 >> 0.9190915542938254\n",
      "0.00017327365570177079 >> 0.9955626553070642 >> 0.9190915542938254\n",
      "0.00017476311406023875 >> 0.9953851615193469 >> 0.9190915542938254\n",
      "0.0001777694848092543 >> 0.9952076677316294 >> 0.9190915542938254\n",
      "0.00020285004310563419 >> 0.9948526801561945 >> 0.9190915542938254\n",
      "0.00021299254526091586 >> 0.9941427050053249 >> 0.9205110007097232\n",
      "0.00021299254526091586 >> 0.9941427050053249 >> 0.9205110007097232\n",
      "0.00022186723464678735 >> 0.9937877174298899 >> 0.9205110007097232\n",
      "0.00022368768375158167 >> 0.9934327298544551 >> 0.9205110007097232\n",
      "0.00022919717475613843 >> 0.9923677671281506 >> 0.921930447125621\n",
      "0.00023665838362323983 >> 0.9904153354632588 >> 0.9212207239176721\n",
      "0.00023665838362323983 >> 0.9904153354632588 >> 0.9212207239176721\n",
      "0.00023665838362323983 >> 0.9904153354632588 >> 0.9212207239176721\n",
      "0.00023665838362323983 >> 0.9904153354632588 >> 0.9212207239176721\n",
      "0.00023665838362323983 >> 0.9904153354632588 >> 0.9212207239176721\n",
      "0.00023665838362323983 >> 0.9904153354632588 >> 0.9212207239176721\n",
      "0.00023665838362323983 >> 0.9904153354632588 >> 0.9212207239176721\n",
      "0.00023665838362323983 >> 0.9904153354632588 >> 0.9212207239176721\n",
      "0.00023665838362323983 >> 0.9904153354632588 >> 0.9212207239176721\n",
      "0.00023665838362323983 >> 0.9904153354632588 >> 0.9212207239176721\n",
      "0.00023961661341853038 >> 0.9902378416755414 >> 0.9205110007097232\n",
      "0.00025243560919812236 >> 0.9900603478878239 >> 0.9205110007097232\n",
      "0.00025369778724411315 >> 0.9882854100106496 >> 0.9198012775017743\n",
      "0.00026214467109035794 >> 0.9879304224352148 >> 0.9198012775017743\n",
      "0.00026624068157614486 >> 0.986332978345758 >> 0.9190915542938254\n",
      "0.00026624068157614486 >> 0.986332978345758 >> 0.9190915542938254\n",
      "0.00026624068157614486 >> 0.986332978345758 >> 0.9190915542938254\n",
      "0.00026624068157614486 >> 0.986332978345758 >> 0.9190915542938254\n",
      "0.00026624068157614486 >> 0.986332978345758 >> 0.9190915542938254\n",
      "0.00026624068157614486 >> 0.986332978345758 >> 0.9190915542938254\n",
      "0.0002773820665194468 >> 0.9861554845580405 >> 0.9190915542938254\n",
      "0.00028399006034788774 >> 0.9852680156194533 >> 0.9183818310858765\n",
      "0.00028399006034788774 >> 0.9852680156194533 >> 0.9183818310858765\n",
      "0.00028399006034788774 >> 0.9852680156194533 >> 0.9183818310858765\n",
      "0.00028399006034788774 >> 0.9852680156194533 >> 0.9183818310858765\n",
      "0.0002867207340050791 >> 0.9843805466808662 >> 0.9198012775017743\n",
      "0.0002958229795290499 >> 0.9840255591054313 >> 0.9198012775017743\n",
      "0.0002958229795290499 >> 0.9840255591054313 >> 0.9198012775017743\n",
      "0.0002989369056293556 >> 0.983493077742279 >> 0.9198012775017743\n",
      "0.00030427506465845124 >> 0.9829605963791267 >> 0.9198012775017743\n",
      "0.0003042750646584513 >> 0.982250621228257 >> 0.9205110007097232\n",
      "0.0003042750646584513 >> 0.982250621228257 >> 0.9205110007097232\n",
      "0.0003042750646584513 >> 0.982250621228257 >> 0.9205110007097232\n",
      "0.0003042750646584513 >> 0.982250621228257 >> 0.9205110007097232\n",
      "0.00030546830020613137 >> 0.9820731274405395 >> 0.9212207239176721\n",
      "0.0003093463157360922 >> 0.9815406460773873 >> 0.921930447125621\n",
      "0.000309386404677417 >> 0.9813631522896699 >> 0.921930447125621\n",
      "0.0003106141285055023 >> 0.9806531771388002 >> 0.9226401703335699\n",
      "0.0003106141285055023 >> 0.9806531771388002 >> 0.9226401703335699\n",
      "0.0003106141285055023 >> 0.9806531771388002 >> 0.9226401703335699\n",
      "0.0003106141285055023 >> 0.9806531771388002 >> 0.9226401703335699\n",
      "0.0003145736053084295 >> 0.9804756833510827 >> 0.9212207239176721\n",
      "0.00031554451149765306 >> 0.9801206957756479 >> 0.9212207239176721\n",
      "0.00031554451149765306 >> 0.9801206957756479 >> 0.9212207239176721\n",
      "0.0003155445114976531 >> 0.9799432019879304 >> 0.9212207239176721\n",
      "0.0003194888178913737 >> 0.9795882144124956 >> 0.9212207239176721\n",
      "0.00031948881789137386 >> 0.9790557330493432 >> 0.9212207239176721\n",
      "0.00031948881789137386 >> 0.9790557330493432 >> 0.9212207239176721\n",
      "0.00032271597766805437 >> 0.9788782392616259 >> 0.921930447125621\n",
      "0.00032696224053210766 >> 0.9779907703230387 >> 0.921930447125621\n",
      "0.0003276808388629474 >> 0.9774582889598864 >> 0.9212207239176721\n",
      "0.0003276808388629474 >> 0.9774582889598864 >> 0.9212207239176721\n",
      "0.00033105482912108137 >> 0.9772807951721689 >> 0.921930447125621\n",
      "0.000331577583973749 >> 0.9771033013844516 >> 0.921930447125621\n",
      "0.00033453720424133 >> 0.9767483138090167 >> 0.9226401703335699\n",
      "0.00033630401883302525 >> 0.9765708200212992 >> 0.9226401703335699\n",
      "0.00033885177655145724 >> 0.9763933262335818 >> 0.9233498935415189\n",
      "0.0003390225257459904 >> 0.9763933262335818 >> 0.9233498935415189\n",
      "0.000344230376179258 >> 0.9760383386581469 >> 0.9240596167494677\n",
      "0.000344230376179258 >> 0.9760383386581469 >> 0.9240596167494677\n",
      "0.000348759723234248 >> 0.9756833510827121 >> 0.9240596167494677\n",
      "0.0003538953059719829 >> 0.9753283635072773 >> 0.9240596167494677\n",
      "0.00035597365203328987 >> 0.9749733759318424 >> 0.9247693399574166\n",
      "0.00036090403502544066 >> 0.9744408945686901 >> 0.9247693399574166\n",
      "0.000384147269131295 >> 0.9739084132055378 >> 0.9247693399574166\n",
      "0.00038507679159014005 >> 0.9733759318423855 >> 0.9247693399574166\n",
      "0.0003872591732016652 >> 0.9728434504792333 >> 0.9240596167494677\n",
      "0.00038843625275546937 >> 0.9728434504792333 >> 0.9240596167494677\n",
      "0.00039936102236421724 >> 0.9724884629037983 >> 0.9233498935415189\n",
      "0.00040254851721379173 >> 0.9701810436634718 >> 0.9261887863733144\n",
      "0.0004057000862112683 >> 0.969471068512602 >> 0.9268985095812633\n",
      "0.00041415217134067026 >> 0.9689385871494498 >> 0.9276082327892122\n",
      "0.000416647948339178 >> 0.9684061057862975 >> 0.9283179559971612\n",
      "0.00041932907348242807 >> 0.9673411430599929 >> 0.9304471256210078\n",
      "0.0004259850905218317 >> 0.966986155484558 >> 0.9304471256210078\n",
      "0.0004285207160606521 >> 0.9666311679091232 >> 0.9304471256210078\n",
      "0.00042872180118397004 >> 0.9659211927582535 >> 0.9311568488289567\n",
      "0.0004313433935472635 >> 0.9646787362442315 >> 0.9311568488289567\n",
      "0.00044414978726976123 >> 0.9641462548810792 >> 0.9318665720369056\n",
      "0.0004625330724262085 >> 0.9637912673056444 >> 0.9318665720369056\n",
      "0.00047331676724647956 >> 0.9629037983670572 >> 0.9325762952448545\n",
      "0.00047331676724647967 >> 0.9625488107916222 >> 0.9325762952448545\n",
      "0.0004831775332307816 >> 0.96201632942847 >> 0.9325762952448545\n",
      "0.0004979046512592834 >> 0.9616613418530351 >> 0.9325762952448545\n",
      "0.0005046840510099297 >> 0.960773872914448 >> 0.9332860184528035\n",
      "0.0005088764892169344 >> 0.9591764288249911 >> 0.9347054648687012\n",
      "0.0005207488932001696 >> 0.9589989350372737 >> 0.9347054648687012\n",
      "0.0005329014483791804 >> 0.9577564785232516 >> 0.9347054648687012\n",
      "0.0005331248361483637 >> 0.9554490592829251 >> 0.9382540809084458\n",
      "0.0005340383262024424 >> 0.9550940717074903 >> 0.9382540809084458\n",
      "0.0005687928211889874 >> 0.952076677316294 >> 0.9382540809084458\n",
      "0.0005853814724327785 >> 0.9513667021654242 >> 0.9368346344925479\n",
      "0.0005923709910374735 >> 0.9501242456514022 >> 0.9325762952448545\n",
      "0.0005931175586608612 >> 0.9478168264110756 >> 0.9311568488289567\n",
      "0.0005939493756438536 >> 0.9465743698970536 >> 0.9325762952448545\n",
      "0.0006150182356186051 >> 0.9463968761093362 >> 0.9368346344925479\n",
      "0.0006447409350551197 >> 0.9463968761093362 >> 0.9368346344925479\n",
      "0.0006621344123893236 >> 0.9435569755058573 >> 0.9375443577004968\n",
      "0.0006769521988990814 >> 0.9357472488462903 >> 0.9382540809084458\n",
      "0.0007573068275943678 >> 0.9353922612708555 >> 0.9389638041163946\n",
      "0.0007830608281651323 >> 0.9353922612708555 >> 0.9389638041163946\n"
     ]
    },
    {
     "name": "stdout",
     "output_type": "stream",
     "text": [
      "0.0008009976061094273 >> 0.9352147674831381 >> 0.9375443577004968\n",
      "0.0008054339946841345 >> 0.934327298544551 >> 0.9382540809084458\n",
      "0.0008120201973149457 >> 0.934327298544551 >> 0.9382540809084458\n",
      "0.0008512384413268612 >> 0.934327298544551 >> 0.9382540809084458\n",
      "0.0009026145169540988 >> 0.9334398296059638 >> 0.9382540809084458\n",
      "0.0009149243643326576 >> 0.931487397941072 >> 0.9389638041163946\n",
      "0.0010579405824763116 >> 0.931487397941072 >> 0.9389638041163946\n",
      "0.0017107540990314272 >> 0.9275825346112886 >> 0.9339957416607523\n",
      "0.0017737211549264612 >> 0.9247426340078098 >> 0.9339957416607523\n",
      "0.0040391599249695875 >> 0.919062832800852 >> 0.9268985095812633\n",
      "0.0044692376987243015 >> 0.919062832800852 >> 0.9268985095812633\n",
      "0.007167351962926685 >> 0.9006034788782392 >> 0.9127040454222853\n",
      "0.030028247583915174 >> 0.8828541001064962 >> 0.8871540099361249\n",
      "0.054895115553639545 >> 0.8828541001064962 >> 0.8871540099361249\n",
      "0.18781180592704086 >> 0.7346467873624423 >> 0.7345635202271115\n"
     ]
    }
   ],
   "source": [
    "train_acc_list = []\n",
    "test_acc_list = []\n",
    "\n",
    "for ccp_alpha_i in ccp_alphas:\n",
    "    dt_clf_pruning = DecisionTreeClassifier(random_state=20, ccp_alpha=ccp_alpha_i)\n",
    "    dt_clf_pruning.fit(x_train,y_train)\n",
    "    \n",
    "    train_acc = dt_clf_pruning.score(x_train, y_train)\n",
    "    train_acc_list.append(train_acc)\n",
    "    \n",
    "    test_acc = dt_clf_pruning.score(x_test, y_test)\n",
    "    test_acc_list.append(test_acc)\n",
    "    \n",
    "    print(ccp_alpha_i, '>>', train_acc, '>>', test_acc)"
   ]
  },
  {
   "cell_type": "code",
   "execution_count": 59,
   "id": "4dcd054d",
   "metadata": {},
   "outputs": [
    {
     "data": {
      "text/plain": [
       "[<matplotlib.lines.Line2D at 0x20388704e50>]"
      ]
     },
     "execution_count": 59,
     "metadata": {},
     "output_type": "execute_result"
    },
    {
     "data": {
      "image/png": "[encoded data removed]",
      "text/plain": [
       "<Figure size 432x288 with 1 Axes>"
      ]
     },
     "metadata": {
      "needs_background": "light"
     },
     "output_type": "display_data"
    }
   ],
   "source": [
    "plt.plot(ccp_alphas, train_acc_list, label = 'Train Data Accuracy')\n",
    "plt.plot(ccp_alphas, test_acc_list, label = 'Test Data Accuracy')"
   ]
  },
  {
   "cell_type": "markdown",
   "id": "d8b06332",
   "metadata": {},
   "source": [
    "## UnderSampling"
   ]
  },
  {
   "cell_type": "code",
   "execution_count": 60,
   "id": "e0296947",
   "metadata": {},
   "outputs": [
    {
     "data": {
      "text/plain": [
       "0    5174\n",
       "1    1869\n",
       "Name: churn_value, dtype: int64"
      ]
     },
     "execution_count": 60,
     "metadata": {},
     "output_type": "execute_result"
    }
   ],
   "source": [
    "Y.value_counts()"
   ]
  },
  {
   "cell_type": "code",
   "execution_count": 61,
   "id": "7338706a",
   "metadata": {},
   "outputs": [
    {
     "data": {
      "text/plain": [
       "0    4139\n",
       "1    1495\n",
       "Name: churn_value, dtype: int64"
      ]
     },
     "execution_count": 61,
     "metadata": {},
     "output_type": "execute_result"
    }
   ],
   "source": [
    "y_train.value_counts()"
   ]
  },
  {
   "cell_type": "code",
   "execution_count": 62,
   "id": "185fc020",
   "metadata": {},
   "outputs": [
    {
     "name": "stdout",
     "output_type": "stream",
     "text": [
      "0    5174\n",
      "1    1869\n",
      "Name: churn_value, dtype: int64\n",
      "0    1869\n",
      "1    1869\n",
      "Name: churn_value, dtype: int64\n"
     ]
    }
   ],
   "source": [
    "rndm_us = RandomUnderSampler(sampling_strategy=1)\n",
    "x_samples, y_samples = rndm_us.fit_resample(X,Y)\n",
    "print(Y.value_counts())\n",
    "print(y_samples.value_counts())"
   ]
  },
  {
   "cell_type": "code",
   "execution_count": 63,
   "id": "4b1fdee4",
   "metadata": {},
   "outputs": [
    {
     "name": "stdout",
     "output_type": "stream",
     "text": [
      "0    5174\n",
      "1    1869\n",
      "Name: churn_value, dtype: int64\n",
      "0    2670\n",
      "1    1869\n",
      "Name: churn_value, dtype: int64\n"
     ]
    }
   ],
   "source": [
    "rndm_us = RandomUnderSampler(sampling_strategy=0.7)\n",
    "x_samples, y_samples = rndm_us.fit_resample(X,Y)\n",
    "print(Y.value_counts())\n",
    "print(y_samples.value_counts())"
   ]
  },
  {
   "cell_type": "code",
   "execution_count": 64,
   "id": "c7659c05",
   "metadata": {},
   "outputs": [
    {
     "data": {
      "text/plain": [
       "DecisionTreeClassifier()"
      ]
     },
     "execution_count": 64,
     "metadata": {},
     "output_type": "execute_result"
    }
   ],
   "source": [
    "x_train, x_test, y_train, y_test = train_test_split(x_samples,y_samples, test_size=0.25, random_state=12, stratify=y_samples)\n",
    "decision_clf = DecisionTreeClassifier()\n",
    "decision_clf.fit(x_train, y_train)"
   ]
  },
  {
   "cell_type": "code",
   "execution_count": 66,
   "id": "fda9f2b8",
   "metadata": {
    "collapsed": true
   },
   "outputs": [
    {
     "name": "stdout",
     "output_type": "stream",
     "text": [
      "*******************Test Data Evaluation***********************\n",
      "Accuracy Score : 1.0\n",
      "************************************************************\n",
      "Confusion Matrix : \n",
      " [[2002    0]\n",
      " [   0 1402]]\n",
      "************************************************************\n",
      "Classification Report : \n",
      "               precision    recall  f1-score   support\n",
      "\n",
      "           0       1.00      1.00      1.00      2002\n",
      "           1       1.00      1.00      1.00      1402\n",
      "\n",
      "    accuracy                           1.00      3404\n",
      "   macro avg       1.00      1.00      1.00      3404\n",
      "weighted avg       1.00      1.00      1.00      3404\n",
      "\n",
      "************************************************************\n",
      "*******************Train Data Evaluation***********************\n",
      "Accuracy Score : 0.8986784140969163\n",
      "************************************************************\n",
      "Confusion Matrix : \n",
      " [[608  60]\n",
      " [ 55 412]]\n",
      "************************************************************\n",
      "Classification Report : \n",
      "               precision    recall  f1-score   support\n",
      "\n",
      "           0       0.92      0.91      0.91       668\n",
      "           1       0.87      0.88      0.88       467\n",
      "\n",
      "    accuracy                           0.90      1135\n",
      "   macro avg       0.89      0.90      0.90      1135\n",
      "weighted avg       0.90      0.90      0.90      1135\n",
      "\n",
      "************************************************************\n"
     ]
    }
   ],
   "source": [
    "print('*******************Test Data Evaluation***********************')\n",
    "evaluate_model('Train Data Evaluation', decision_clf, x_train, y_train)\n",
    "print('*******************Train Data Evaluation***********************')\n",
    "evaluate_model('Test Data Evaluation', decision_clf, x_test, y_test)"
   ]
  },
  {
   "cell_type": "code",
   "execution_count": 67,
   "id": "9592fbf4",
   "metadata": {},
   "outputs": [
    {
     "name": "stdout",
     "output_type": "stream",
     "text": [
      "0    2002\n",
      "1    1402\n",
      "Name: churn_value, dtype: int64\n",
      "0    2002\n",
      "1    1402\n",
      "Name: churn_value, dtype: int64\n"
     ]
    }
   ],
   "source": [
    "random_us = RandomUnderSampler(sampling_strategy=0.7)\n",
    "x_train_rus, y_train_rus = random_us.fit_resample(x_train,y_train)\n",
    "print(y_train.value_counts())\n",
    "print(y_train_rus.value_counts())"
   ]
  },
  {
   "cell_type": "code",
   "execution_count": 69,
   "id": "0a19620f",
   "metadata": {},
   "outputs": [
    {
     "name": "stdout",
     "output_type": "stream",
     "text": [
      "*******************Test Data Evaluation***********************\n",
      "Accuracy Score : 0.9039647577092511\n",
      "************************************************************\n",
      "Confusion Matrix : \n",
      " [[611  57]\n",
      " [ 52 415]]\n",
      "************************************************************\n",
      "Classification Report : \n",
      "               precision    recall  f1-score   support\n",
      "\n",
      "           0       0.92      0.91      0.92       668\n",
      "           1       0.88      0.89      0.88       467\n",
      "\n",
      "    accuracy                           0.90      1135\n",
      "   macro avg       0.90      0.90      0.90      1135\n",
      "weighted avg       0.90      0.90      0.90      1135\n",
      "\n",
      "************************************************************\n",
      "*******************Train Data Evaluation***********************\n",
      "Accuracy Score : 1.0\n",
      "************************************************************\n",
      "Confusion Matrix : \n",
      " [[2002    0]\n",
      " [   0 1402]]\n",
      "************************************************************\n",
      "Classification Report : \n",
      "               precision    recall  f1-score   support\n",
      "\n",
      "           0       1.00      1.00      1.00      2002\n",
      "           1       1.00      1.00      1.00      1402\n",
      "\n",
      "    accuracy                           1.00      3404\n",
      "   macro avg       1.00      1.00      1.00      3404\n",
      "weighted avg       1.00      1.00      1.00      3404\n",
      "\n",
      "************************************************************\n"
     ]
    }
   ],
   "source": [
    "decision_clf_model = DecisionTreeClassifier()\n",
    "decision_clf_model.fit(x_train_rus, y_train_rus)\n",
    "print('*******************Test Data Evaluation***********************')\n",
    "evaluate_model('Test Data Evaluation', decision_clf_model, x_test, y_test)\n",
    "print('*******************Train Data Evaluation***********************')\n",
    "evaluate_model('Train Data Evaluation', decision_clf_model, x_train_rus, y_train_rus)"
   ]
  },
  {
   "cell_type": "markdown",
   "id": "54fd276e",
   "metadata": {},
   "source": [
    "## Oversampling "
   ]
  },
  {
   "cell_type": "code",
   "execution_count": 72,
   "id": "49f1b158",
   "metadata": {},
   "outputs": [
    {
     "name": "stdout",
     "output_type": "stream",
     "text": [
      "*******************Test Data Evaluation***********************\n",
      "0    2002\n",
      "1    1402\n",
      "Name: churn_value, dtype: int64\n",
      "*******************Train Data Evaluation***********************\n",
      "0    2002\n",
      "1    1701\n",
      "Name: churn_value, dtype: int64\n"
     ]
    }
   ],
   "source": [
    "random_os = RandomOverSampler(sampling_strategy=0.85)\n",
    "x_train_ros, y_train_ros = random_os.fit_resample(x_train,y_train)\n",
    "print(y_train.value_counts())\n",
    "print(y_train_ros.value_counts())"
   ]
  },
  {
   "cell_type": "code",
   "execution_count": 73,
   "id": "d9933951",
   "metadata": {},
   "outputs": [
    {
     "name": "stdout",
     "output_type": "stream",
     "text": [
      "*******************Test Data Evaluation***********************\n",
      "Accuracy Score : 0.8995594713656387\n",
      "************************************************************\n",
      "Confusion Matrix : \n",
      " [[607  61]\n",
      " [ 53 414]]\n",
      "************************************************************\n",
      "Classification Report : \n",
      "               precision    recall  f1-score   support\n",
      "\n",
      "           0       0.92      0.91      0.91       668\n",
      "           1       0.87      0.89      0.88       467\n",
      "\n",
      "    accuracy                           0.90      1135\n",
      "   macro avg       0.90      0.90      0.90      1135\n",
      "weighted avg       0.90      0.90      0.90      1135\n",
      "\n",
      "************************************************************\n",
      "*******************Train Data Evaluation***********************\n",
      "Accuracy Score : 1.0\n",
      "************************************************************\n",
      "Confusion Matrix : \n",
      " [[2002    0]\n",
      " [   0 1701]]\n",
      "************************************************************\n",
      "Classification Report : \n",
      "               precision    recall  f1-score   support\n",
      "\n",
      "           0       1.00      1.00      1.00      2002\n",
      "           1       1.00      1.00      1.00      1701\n",
      "\n",
      "    accuracy                           1.00      3703\n",
      "   macro avg       1.00      1.00      1.00      3703\n",
      "weighted avg       1.00      1.00      1.00      3703\n",
      "\n",
      "************************************************************\n"
     ]
    }
   ],
   "source": [
    "decision_clf = DecisionTreeClassifier()\n",
    "decision_clf.fit(x_train_ros, y_train_ros)\n",
    "print('*******************Test Data Evaluation***********************')\n",
    "evaluate_model('Test Data Evaluation', decision_clf, x_test, y_test)\n",
    "print('*******************Train Data Evaluation***********************')\n",
    "evaluate_model('Train Data Evaluation', decision_clf,x_train_ros, y_train_ros)"
   ]
  },
  {
   "cell_type": "markdown",
   "id": "f5cec469",
   "metadata": {},
   "source": [
    "## SMOTE"
   ]
  },
  {
   "cell_type": "code",
   "execution_count": 74,
   "id": "b9c911a7",
   "metadata": {},
   "outputs": [
    {
     "name": "stdout",
     "output_type": "stream",
     "text": [
      "0    2002\n",
      "1    1402\n",
      "Name: churn_value, dtype: int64\n",
      "0    2002\n",
      "1    1701\n",
      "Name: churn_value, dtype: int64\n",
      "*******************Test Data Evaluation***********************\n",
      "Accuracy Score : 0.9030837004405287\n",
      "************************************************************\n",
      "Confusion Matrix : \n",
      " [[607  61]\n",
      " [ 49 418]]\n",
      "************************************************************\n",
      "Classification Report : \n",
      "               precision    recall  f1-score   support\n",
      "\n",
      "           0       0.93      0.91      0.92       668\n",
      "           1       0.87      0.90      0.88       467\n",
      "\n",
      "    accuracy                           0.90      1135\n",
      "   macro avg       0.90      0.90      0.90      1135\n",
      "weighted avg       0.90      0.90      0.90      1135\n",
      "\n",
      "************************************************************\n",
      "*******************Train Data Evaluation***********************\n",
      "Accuracy Score : 1.0\n",
      "************************************************************\n",
      "Confusion Matrix : \n",
      " [[2002    0]\n",
      " [   0 1701]]\n",
      "************************************************************\n",
      "Classification Report : \n",
      "               precision    recall  f1-score   support\n",
      "\n",
      "           0       1.00      1.00      1.00      2002\n",
      "           1       1.00      1.00      1.00      1701\n",
      "\n",
      "    accuracy                           1.00      3703\n",
      "   macro avg       1.00      1.00      1.00      3703\n",
      "weighted avg       1.00      1.00      1.00      3703\n",
      "\n",
      "************************************************************\n"
     ]
    }
   ],
   "source": [
    "smote_os = SMOTE(sampling_strategy=0.85)\n",
    "x_train_sm, y_train_sm = smote_os.fit_resample(x_train,y_train)\n",
    "print(y_train.value_counts())\n",
    "print(y_train_sm.value_counts())\n",
    "\n",
    "decision_clf_sm = DecisionTreeClassifier()\n",
    "decision_clf_sm.fit(x_train_sm, y_train_sm)\n",
    "print('*******************Test Data Evaluation***********************')\n",
    "evaluate_model('Test Data Evaluation', decision_clf_sm, x_test, y_test)\n",
    "print('*******************Train Data Evaluation***********************')\n",
    "evaluate_model('Train Data Evaluation', decision_clf_sm, x_train_sm, y_train_sm)"
   ]
  },
  {
   "cell_type": "markdown",
   "id": "4a8e22c6",
   "metadata": {},
   "source": [
    "## Oversampling + Undersampling"
   ]
  },
  {
   "cell_type": "code",
   "execution_count": 75,
   "id": "19a4613f",
   "metadata": {},
   "outputs": [
    {
     "name": "stdout",
     "output_type": "stream",
     "text": [
      "0    2002\n",
      "1    1402\n",
      "Name: churn_value, dtype: int64\n",
      "0    2002\n",
      "1    1402\n",
      "Name: churn_value, dtype: int64\n",
      "0    2002\n",
      "1    1402\n",
      "Name: churn_value, dtype: int64\n",
      "0    2002\n",
      "1    1601\n",
      "Name: churn_value, dtype: int64\n",
      "*******************Test Data Evaluation***********************\n",
      "Accuracy Score : 0.9039647577092511\n",
      "************************************************************\n",
      "Confusion Matrix : \n",
      " [[615  53]\n",
      " [ 56 411]]\n",
      "************************************************************\n",
      "Classification Report : \n",
      "               precision    recall  f1-score   support\n",
      "\n",
      "           0       0.92      0.92      0.92       668\n",
      "           1       0.89      0.88      0.88       467\n",
      "\n",
      "    accuracy                           0.90      1135\n",
      "   macro avg       0.90      0.90      0.90      1135\n",
      "weighted avg       0.90      0.90      0.90      1135\n",
      "\n",
      "************************************************************\n",
      "*******************Train Data Evaluation***********************\n",
      "Accuracy Score : 1.0\n",
      "************************************************************\n",
      "Confusion Matrix : \n",
      " [[2002    0]\n",
      " [   0 1601]]\n",
      "************************************************************\n",
      "Classification Report : \n",
      "               precision    recall  f1-score   support\n",
      "\n",
      "           0       1.00      1.00      1.00      2002\n",
      "           1       1.00      1.00      1.00      1601\n",
      "\n",
      "    accuracy                           1.00      3603\n",
      "   macro avg       1.00      1.00      1.00      3603\n",
      "weighted avg       1.00      1.00      1.00      3603\n",
      "\n",
      "************************************************************\n"
     ]
    }
   ],
   "source": [
    "rndm_us = RandomUnderSampler(sampling_strategy=0.7)\n",
    "x_train_rus, y_train_rus = rndm_us.fit_resample(x_train,y_train)\n",
    "print(y_train.value_counts())\n",
    "print(y_train_rus.value_counts())\n",
    "\n",
    "rndm_os = RandomOverSampler(sampling_strategy=0.8)\n",
    "x_train_samples, y_train_samples = rndm_os.fit_resample(x_train_rus, y_train_rus)\n",
    "print(y_train.value_counts())\n",
    "print(y_train_samples.value_counts())\n",
    "\n",
    "decision_clf = DecisionTreeClassifier()\n",
    "decision_clf.fit(x_train_samples, y_train_samples)\n",
    "print('*******************Test Data Evaluation***********************')\n",
    "evaluate_model('Test Data Evaluation', decision_clf, x_test, y_test)\n",
    "print('*******************Train Data Evaluation***********************')\n",
    "evaluate_model('Train Data Evaluation', decision_clf, x_train_samples, y_train_samples)"
   ]
  },
  {
   "cell_type": "markdown",
   "id": "c6c8a392",
   "metadata": {},
   "source": [
    "## RandomForestClassifier"
   ]
  },
  {
   "cell_type": "code",
   "execution_count": 77,
   "id": "e2938c05",
   "metadata": {},
   "outputs": [],
   "source": [
    "X = df.drop(['churn_value'],axis=1)\n",
    "Y = df['churn_value']"
   ]
  },
  {
   "cell_type": "code",
   "execution_count": 78,
   "id": "a89d26a0",
   "metadata": {},
   "outputs": [],
   "source": [
    "X=X.apply(pd.to_numeric,errors='coerce')\n",
    "Y=Y.apply(pd.to_numeric,errors='coerce')\n",
    "\n",
    "X.fillna(0,inplace=True)\n",
    "Y.fillna(0,inplace=True)"
   ]
  },
  {
   "cell_type": "code",
   "execution_count": 79,
   "id": "38a0f2a5",
   "metadata": {},
   "outputs": [],
   "source": [
    "x_train, x_test, y_train, y_test = train_test_split(X,Y,test_size=0.20, random_state=2,stratify=Y)"
   ]
  },
  {
   "cell_type": "code",
   "execution_count": 82,
   "id": "ec2a6ad4",
   "metadata": {},
   "outputs": [
    {
     "data": {
      "text/plain": [
       "RandomForestClassifier(n_estimators=50, random_state=2)"
      ]
     },
     "execution_count": 82,
     "metadata": {},
     "output_type": "execute_result"
    }
   ],
   "source": [
    "random_model = RandomForestClassifier(n_estimators=50,random_state=2)\n",
    "random_model.fit(x_train,y_train)"
   ]
  },
  {
   "cell_type": "code",
   "execution_count": 84,
   "id": "d8989586",
   "metadata": {},
   "outputs": [
    {
     "name": "stdout",
     "output_type": "stream",
     "text": [
      "***************Test Data Evaluation***************\n",
      "Confusion Matrix :\n",
      " [[995  40]\n",
      " [ 58 316]]\n",
      "Accuracy : 0.9304471256210078\n",
      "Classification Report :\n",
      "               precision    recall  f1-score   support\n",
      "\n",
      "           0       0.94      0.96      0.95      1035\n",
      "           1       0.89      0.84      0.87       374\n",
      "\n",
      "    accuracy                           0.93      1409\n",
      "   macro avg       0.92      0.90      0.91      1409\n",
      "weighted avg       0.93      0.93      0.93      1409\n",
      "\n",
      "*#*#*#*#*#*#*#*#*#*#*#*#*#*#*#*#*#*#*#*#*#*#*#*#*#*#*#*#*#*#\n",
      "**************Train Data Evaluation***************\n",
      "Confusion Matrix :\n",
      " [[4139    0]\n",
      " [   1 1494]]\n",
      "Accuracy : 0.9998225062122825\n",
      "Classification Report :\n",
      "               precision    recall  f1-score   support\n",
      "\n",
      "           0       1.00      1.00      1.00      4139\n",
      "           1       1.00      1.00      1.00      1495\n",
      "\n",
      "    accuracy                           1.00      5634\n",
      "   macro avg       1.00      1.00      1.00      5634\n",
      "weighted avg       1.00      1.00      1.00      5634\n",
      "\n"
     ]
    }
   ],
   "source": [
    "def evaluation(string, model, ind_var, act):\n",
    "    print(string.center(50,'*'))\n",
    "    \n",
    "    pred = model.predict(ind_var)\n",
    "    cnf_matrix = confusion_matrix(act, pred)\n",
    "    print('Confusion Matrix :\\n', cnf_matrix)\n",
    "    \n",
    "    accuracy = accuracy_score(act, pred)\n",
    "    print('Accuracy :', accuracy)\n",
    "    \n",
    "    clf_report = classification_report(act,pred)\n",
    "    print('Classification Report :\\n', clf_report)\n",
    "evaluation('Test Data Evaluation', random_model, x_test, y_test)\n",
    "print('*#'*30)\n",
    "evaluation('Train Data Evaluation', random_model, x_train, y_train)"
   ]
  },
  {
   "cell_type": "markdown",
   "id": "4ceff3f0",
   "metadata": {},
   "source": [
    "## Hyperparameter Tunning "
   ]
  },
  {
   "cell_type": "code",
   "execution_count": 91,
   "id": "349f0a1d",
   "metadata": {},
   "outputs": [
    {
     "data": {
      "text/plain": [
       "RandomForestClassifier(criterion='entropy', max_depth=9, max_samples=0.75,\n",
       "                       min_samples_leaf=7, min_samples_split=7, n_estimators=46,\n",
       "                       n_jobs=-1, oob_score=True, random_state=2)"
      ]
     },
     "execution_count": 91,
     "metadata": {},
     "output_type": "execute_result"
    }
   ],
   "source": [
    "rf_model = RandomForestClassifier(random_state=2,max_samples=0.75,\n",
    "                                 bootstrap=True, oob_score=True, n_jobs=-1)\n",
    "\n",
    "hyp = {'n_estimators':np.arange(20,100),\n",
    "    'criterion':['gini','entropy'],\n",
    "    'max_depth': np.arange(3,10),\n",
    "    'min_samples_split':np.arange(5,15),\n",
    "    'min_samples_leaf':np.arange(3,10),}\n",
    "\n",
    "rscv_rf_model = RandomizedSearchCV(rf_model, hyp, cv = 3)\n",
    "rscv_rf_model.fit(x_train,y_train)\n",
    "rscv_rf_model.best_estimator_"
   ]
  },
  {
   "cell_type": "code",
   "execution_count": 94,
   "id": "f9cb4952",
   "metadata": {},
   "outputs": [
    {
     "data": {
      "text/plain": [
       "RandomForestClassifier(criterion='entropy', max_depth=9, max_samples=0.75,\n",
       "                       min_samples_leaf=7, min_samples_split=7, n_estimators=46,\n",
       "                       n_jobs=-1, oob_score=True, random_state=2)"
      ]
     },
     "execution_count": 94,
     "metadata": {},
     "output_type": "execute_result"
    }
   ],
   "source": [
    "rf_clf_model = RandomForestClassifier(criterion='entropy', max_depth=9, max_samples=0.75,\n",
    "                       min_samples_leaf=7, min_samples_split=7, n_estimators=46,\n",
    "                       n_jobs=-1, oob_score=True, random_state=2)\n",
    "rf_clf_model.fit(x_train,y_train)"
   ]
  },
  {
   "cell_type": "code",
   "execution_count": 95,
   "id": "ca861a46",
   "metadata": {},
   "outputs": [
    {
     "name": "stdout",
     "output_type": "stream",
     "text": [
      "***************Test Data Evaluation***************\n",
      "Confusion Matrix :\n",
      " [[989  46]\n",
      " [ 44 330]]\n",
      "Accuracy : 0.936124911284599\n",
      "Classification Report :\n",
      "               precision    recall  f1-score   support\n",
      "\n",
      "           0       0.96      0.96      0.96      1035\n",
      "           1       0.88      0.88      0.88       374\n",
      "\n",
      "    accuracy                           0.94      1409\n",
      "   macro avg       0.92      0.92      0.92      1409\n",
      "weighted avg       0.94      0.94      0.94      1409\n",
      "\n",
      "*#*#*#*#*#*#*#*#*#*#*#*#*#*#*#*#*#*#*#*#*#*#*#*#*#*#*#*#*#*#\n",
      "**************Train Data Evaluation***************\n",
      "Confusion Matrix :\n",
      " [[3990  149]\n",
      " [ 158 1337]]\n",
      "Accuracy : 0.945509407170749\n",
      "Classification Report :\n",
      "               precision    recall  f1-score   support\n",
      "\n",
      "           0       0.96      0.96      0.96      4139\n",
      "           1       0.90      0.89      0.90      1495\n",
      "\n",
      "    accuracy                           0.95      5634\n",
      "   macro avg       0.93      0.93      0.93      5634\n",
      "weighted avg       0.95      0.95      0.95      5634\n",
      "\n"
     ]
    }
   ],
   "source": [
    "evaluation('Test Data Evaluation', rf_clf_model, x_test, y_test)\n",
    "print('*#'*30)\n",
    "evaluation('Train Data Evaluation', rf_clf_model, x_train, y_train)"
   ]
  },
  {
   "cell_type": "markdown",
   "id": "5a033ecc",
   "metadata": {},
   "source": [
    "## UnderSampling"
   ]
  },
  {
   "cell_type": "code",
   "execution_count": 97,
   "id": "e1bbb7e4",
   "metadata": {},
   "outputs": [
    {
     "name": "stdout",
     "output_type": "stream",
     "text": [
      "***************Test Data Evaluation***************\n",
      "Confusion Matrix :\n",
      " [[958  77]\n",
      " [ 21 353]]\n",
      "Accuracy : 0.9304471256210078\n",
      "Classification Report :\n",
      "               precision    recall  f1-score   support\n",
      "\n",
      "           0       0.98      0.93      0.95      1035\n",
      "           1       0.82      0.94      0.88       374\n",
      "\n",
      "    accuracy                           0.93      1409\n",
      "   macro avg       0.90      0.93      0.91      1409\n",
      "weighted avg       0.94      0.93      0.93      1409\n",
      "\n",
      "**************Train Data Evaluation***************\n",
      "Confusion Matrix :\n",
      " [[2015  120]\n",
      " [  81 1414]]\n",
      "Accuracy : 0.9446280991735537\n",
      "Classification Report :\n",
      "               precision    recall  f1-score   support\n",
      "\n",
      "           0       0.96      0.94      0.95      2135\n",
      "           1       0.92      0.95      0.93      1495\n",
      "\n",
      "    accuracy                           0.94      3630\n",
      "   macro avg       0.94      0.94      0.94      3630\n",
      "weighted avg       0.95      0.94      0.94      3630\n",
      "\n"
     ]
    }
   ],
   "source": [
    "random_model = RandomForestClassifier(criterion='entropy', max_depth=9, max_samples=0.75,\n",
    "                       min_samples_leaf=7, min_samples_split=7, n_estimators=46,\n",
    "                       n_jobs=-1, oob_score=True, random_state=2)\n",
    "random_model.fit(x_train_rus, y_train_rus)\n",
    "evaluation('Test Data Evaluation', random_model, x_test, y_test)\n",
    "evaluation('Train Data Evaluation', random_model, x_train_rus, y_train_rus)"
   ]
  },
  {
   "cell_type": "markdown",
   "id": "d39a36b1",
   "metadata": {},
   "source": [
    "## OverSampling"
   ]
  },
  {
   "cell_type": "code",
   "execution_count": 98,
   "id": "1a3fc8f4",
   "metadata": {},
   "outputs": [
    {
     "name": "stdout",
     "output_type": "stream",
     "text": [
      "***************Test Data Evaluation***************\n",
      "Confusion Matrix :\n",
      " [[960  75]\n",
      " [ 10 364]]\n",
      "Accuracy : 0.9396735273243435\n",
      "Classification Report :\n",
      "               precision    recall  f1-score   support\n",
      "\n",
      "           0       0.99      0.93      0.96      1035\n",
      "           1       0.83      0.97      0.90       374\n",
      "\n",
      "    accuracy                           0.94      1409\n",
      "   macro avg       0.91      0.95      0.93      1409\n",
      "weighted avg       0.95      0.94      0.94      1409\n",
      "\n",
      "**************Train Data Evaluation***************\n",
      "Confusion Matrix :\n",
      " [[1858  144]\n",
      " [  68 1633]]\n",
      "Accuracy : 0.9427491223332433\n",
      "Classification Report :\n",
      "               precision    recall  f1-score   support\n",
      "\n",
      "           0       0.96      0.93      0.95      2002\n",
      "           1       0.92      0.96      0.94      1701\n",
      "\n",
      "    accuracy                           0.94      3703\n",
      "   macro avg       0.94      0.94      0.94      3703\n",
      "weighted avg       0.94      0.94      0.94      3703\n",
      "\n"
     ]
    }
   ],
   "source": [
    "random_model = RandomForestClassifier(criterion='entropy', max_depth=9, max_samples=0.75,\n",
    "                       min_samples_leaf=7, min_samples_split=7, n_estimators=46,\n",
    "                       n_jobs=-1, oob_score=True, random_state=2)\n",
    "random_model.fit(x_train_ros, y_train_ros)\n",
    "evaluation('Test Data Evaluation', random_model, x_test, y_test)\n",
    "evaluation('Train Data Evaluation', random_model, x_train_ros, y_train_ros)"
   ]
  },
  {
   "cell_type": "markdown",
   "id": "a205ceb4",
   "metadata": {},
   "source": [
    "## SMOTE"
   ]
  },
  {
   "cell_type": "code",
   "execution_count": 99,
   "id": "bcea619c",
   "metadata": {},
   "outputs": [
    {
     "name": "stdout",
     "output_type": "stream",
     "text": [
      "0    4139\n",
      "1    1495\n",
      "Name: churn_value, dtype: int64\n",
      "0    4139\n",
      "1    3518\n",
      "Name: churn_value, dtype: int64\n",
      "***************Test Data Evaluation***************\n",
      "Confusion Matrix :\n",
      " [[962  73]\n",
      " [ 23 351]]\n",
      "Accuracy : 0.9318665720369056\n",
      "Classification Report :\n",
      "               precision    recall  f1-score   support\n",
      "\n",
      "           0       0.98      0.93      0.95      1035\n",
      "           1       0.83      0.94      0.88       374\n",
      "\n",
      "    accuracy                           0.93      1409\n",
      "   macro avg       0.90      0.93      0.92      1409\n",
      "weighted avg       0.94      0.93      0.93      1409\n",
      "\n",
      "**************Train Data Evaluation***************\n",
      "Confusion Matrix :\n",
      " [[3863  276]\n",
      " [ 135 3383]]\n",
      "Accuracy : 0.9463236254407732\n",
      "Classification Report :\n",
      "               precision    recall  f1-score   support\n",
      "\n",
      "           0       0.97      0.93      0.95      4139\n",
      "           1       0.92      0.96      0.94      3518\n",
      "\n",
      "    accuracy                           0.95      7657\n",
      "   macro avg       0.95      0.95      0.95      7657\n",
      "weighted avg       0.95      0.95      0.95      7657\n",
      "\n"
     ]
    }
   ],
   "source": [
    "smote_os = SMOTE(sampling_strategy=0.85)\n",
    "x_train_sm, y_train_sm = smote_os.fit_resample(x_train,y_train)\n",
    "print(y_train.value_counts())\n",
    "print(y_train_sm.value_counts())\n",
    "\n",
    "random_clf_sm = RandomForestClassifier(criterion='entropy', max_depth=6, max_samples=0.75,\n",
    "                       min_samples_leaf=6, min_samples_split=9, n_estimators=79,\n",
    "                       n_jobs=-1, oob_score=True, random_state=2)\n",
    "random_clf_sm.fit(x_train_sm, y_train_sm)\n",
    "evaluation('Test Data Evaluation', random_clf_sm, x_test, y_test)\n",
    "evaluation('Train Data Evaluation', random_clf_sm, x_train_sm, y_train_sm)"
   ]
  },
  {
   "cell_type": "markdown",
   "id": "97ced9eb",
   "metadata": {},
   "source": [
    "## SMOTEENN"
   ]
  },
  {
   "cell_type": "code",
   "execution_count": 102,
   "id": "539cccb4",
   "metadata": {},
   "outputs": [
    {
     "name": "stdout",
     "output_type": "stream",
     "text": [
      "0    4139\n",
      "1    1495\n",
      "Name: churn_value, dtype: int64\n",
      "1    1794\n",
      "0    1735\n",
      "Name: churn_value, dtype: int64\n",
      "***************Test Data Evaluation***************\n",
      "Confusion Matrix :\n",
      " [[964  71]\n",
      " [ 23 351]]\n",
      "Accuracy : 0.9332860184528035\n",
      "Classification Report :\n",
      "               precision    recall  f1-score   support\n",
      "\n",
      "           0       0.98      0.93      0.95      1035\n",
      "           1       0.83      0.94      0.88       374\n",
      "\n",
      "    accuracy                           0.93      1409\n",
      "   macro avg       0.90      0.93      0.92      1409\n",
      "weighted avg       0.94      0.93      0.93      1409\n",
      "\n",
      "**************Train Data Evaluation***************\n",
      "Confusion Matrix :\n",
      " [[1655   81]\n",
      " [  49 1678]]\n",
      "Accuracy : 0.9624602945423043\n",
      "Classification Report :\n",
      "               precision    recall  f1-score   support\n",
      "\n",
      "           0       0.97      0.95      0.96      1736\n",
      "           1       0.95      0.97      0.96      1727\n",
      "\n",
      "    accuracy                           0.96      3463\n",
      "   macro avg       0.96      0.96      0.96      3463\n",
      "weighted avg       0.96      0.96      0.96      3463\n",
      "\n"
     ]
    }
   ],
   "source": [
    "smote_os = SMOTEENN(sampling_strategy=0.85)\n",
    "x_train_sme, y_train_sme = smote_os.fit_resample(x_train,y_train)\n",
    "print(y_train.value_counts())\n",
    "print(y_train_sm.value_counts())\n",
    "\n",
    "random_clf_sm = RandomForestClassifier(criterion='entropy', max_depth=6, max_samples=0.75,\n",
    "                       min_samples_leaf=6, min_samples_split=9, n_estimators=79,\n",
    "                       n_jobs=-1, oob_score=True, random_state=2)\n",
    "random_clf_sm.fit(x_train_sme, y_train_sme)\n",
    "evaluation('Test Data Evaluation', random_clf_sm, x_test, y_test)\n",
    "evaluation('Train Data Evaluation', random_clf_sm, x_train_sme, y_train_sme)"
   ]
  }
 ],
 "metadata": {
  "kernelspec": {
   "display_name": "Python 3 (ipykernel)",
   "language": "python",
   "name": "python3"
  },
  "language_info": {
   "codemirror_mode": {
    "name": "ipython",
    "version": 3
   },
   "file_extension": ".py",
   "mimetype": "text/x-python",
   "name": "python",
   "nbconvert_exporter": "python",
   "pygments_lexer": "ipython3",
   "version": "3.9.12"
  }
 },
 "nbformat": 4,
 "nbformat_minor": 5
}
